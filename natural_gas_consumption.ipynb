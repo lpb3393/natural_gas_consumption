{
 "cells": [
  {
   "cell_type": "markdown",
   "metadata": {},
   "source": [
    "# Business Understanding"
   ]
  },
  {
   "cell_type": "markdown",
   "metadata": {},
   "source": [
    "The forecasting of future natural gas consumption patterns is essential for energy planning and ensuring a reliable supply. Time series models, such as ARMA and SARIMA, have been shown to effectively capture the seasonality and growth trends in natural gas usage, providing valuable insights for decision-makers. Additionally, accurate forecasts help in managing the economic aspects of natural gas production and consumption, enabling industries to operate more efficiently and reduce economic risks. Understanding consumption patterns through time series analysis supports the development of sustainable energy policies and can guide investment in infrastructure and technology to meet future energy demands. In summary, time series modeling is a vital tool for organizing an analysis base for natural gas inspection, addressing social issues, and promoting effective and credible energy management in the United States."
   ]
  },
  {
   "cell_type": "markdown",
   "metadata": {},
   "source": [
    "Source: https://www.eia.gov/electricity/data/browser/#/topic/2?agg=2,0,1&fuel=f&geo=g&sec=g&linechart=~ELEC.CONS_TOT.NG-US-99.M&columnchart=ELEC.CONS_TOT.COW-US-99.M&map=ELEC.CONS_TOT.COW-US-99.M&freq=M&start=200101&end=202312&ctype=linechart&ltype=pin&rtype=s&maptype=0&rse=0&pin="
   ]
  },
  {
   "cell_type": "markdown",
   "metadata": {},
   "source": [
    "# Data Understanding"
   ]
  },
  {
   "cell_type": "markdown",
   "metadata": {},
   "source": [
    "For this analysis I collected data from the United States Energy Information Administration and within the dataset there are the monthly consumption totals of coal, petroleum liquids, petroleum coke and natural gas for all sectors. This dataset has every month’s usage since January 1, 2001, and ends on December 1, 2023."
   ]
  },
  {
   "cell_type": "code",
   "execution_count": 1,
   "metadata": {},
   "outputs": [
    {
     "name": "stderr",
     "output_type": "stream",
     "text": [
      "C:\\Users\\lbrown\\Anaconda3\\envs\\learn-env\\lib\\site-packages\\numpy\\_distributor_init.py:30: UserWarning: loaded more than 1 DLL from .libs:\n",
      "C:\\Users\\lbrown\\Anaconda3\\envs\\learn-env\\lib\\site-packages\\numpy\\.libs\\libopenblas.GK7GX5KEQ4F6UYO3P26ULGBQYHGQO7J4.gfortran-win_amd64.dll\n",
      "C:\\Users\\lbrown\\Anaconda3\\envs\\learn-env\\lib\\site-packages\\numpy\\.libs\\libopenblas64__v0.3.21-gcc_10_3_0.dll\n",
      "  warnings.warn(\"loaded more than 1 DLL from .libs:\"\n"
     ]
    }
   ],
   "source": [
    "#importing libraries\n",
    "\n",
    "import pandas as pd\n",
    "import matplotlib.pyplot as plt\n",
    "import numpy as np\n",
    "import warnings\n",
    "\n",
    "from random import gauss as gs\n",
    "from sklearn.metrics import mean_squared_error\n",
    "from sklearn.linear_model import LinearRegression\n",
    "import itertools\n",
    "\n",
    "from statsmodels.tsa.arima.model import ARIMA\n",
    "from statsmodels.tsa.stattools import acf, pacf\n",
    "from statsmodels.graphics.tsaplots import plot_acf, plot_pacf\n",
    "from statsmodels.tsa.statespace.sarimax import SARIMAX\n",
    "from statsmodels.tools.sm_exceptions import ConvergenceWarning\n",
    "\n",
    "warnings.simplefilter(\"ignore\", ConvergenceWarning)"
   ]
  },
  {
   "cell_type": "code",
   "execution_count": 2,
   "metadata": {},
   "outputs": [],
   "source": [
    "#loading the dataset\n",
    "\n",
    "data = pd.read_csv(\"data/Total_consumption_for_all_sectors.csv\")"
   ]
  },
  {
   "cell_type": "code",
   "execution_count": 3,
   "metadata": {},
   "outputs": [
    {
     "data": {
      "text/html": [
       "<div>\n",
       "<style scoped>\n",
       "    .dataframe tbody tr th:only-of-type {\n",
       "        vertical-align: middle;\n",
       "    }\n",
       "\n",
       "    .dataframe tbody tr th {\n",
       "        vertical-align: top;\n",
       "    }\n",
       "\n",
       "    .dataframe thead th {\n",
       "        text-align: right;\n",
       "    }\n",
       "</style>\n",
       "<table border=\"1\" class=\"dataframe\">\n",
       "  <thead>\n",
       "    <tr style=\"text-align: right;\">\n",
       "      <th></th>\n",
       "      <th>description</th>\n",
       "      <th>units</th>\n",
       "      <th>source_key</th>\n",
       "      <th>2001-01-01</th>\n",
       "      <th>2001-02-01</th>\n",
       "      <th>2001-03-01</th>\n",
       "      <th>2001-04-01</th>\n",
       "      <th>2001-05-01</th>\n",
       "      <th>2001-06-01</th>\n",
       "      <th>2001-07-01</th>\n",
       "      <th>...</th>\n",
       "      <th>2023-03-01</th>\n",
       "      <th>2023-04-01</th>\n",
       "      <th>2023-05-01</th>\n",
       "      <th>2023-06-01</th>\n",
       "      <th>2023-07-01</th>\n",
       "      <th>2023-08-01</th>\n",
       "      <th>2023-09-01</th>\n",
       "      <th>2023-10-01</th>\n",
       "      <th>2023-11-01</th>\n",
       "      <th>2023-12-01</th>\n",
       "    </tr>\n",
       "  </thead>\n",
       "  <tbody>\n",
       "    <tr>\n",
       "      <th>0</th>\n",
       "      <td>United States : coal</td>\n",
       "      <td>thousand tons</td>\n",
       "      <td>ELEC.CONS_TOT.COW-US-99.M</td>\n",
       "      <td>90951</td>\n",
       "      <td>77545</td>\n",
       "      <td>80268</td>\n",
       "      <td>72530</td>\n",
       "      <td>78810</td>\n",
       "      <td>84486</td>\n",
       "      <td>93653</td>\n",
       "      <td>...</td>\n",
       "      <td>29462</td>\n",
       "      <td>23614</td>\n",
       "      <td>26353</td>\n",
       "      <td>34220</td>\n",
       "      <td>45286</td>\n",
       "      <td>44618</td>\n",
       "      <td>34973</td>\n",
       "      <td>30374</td>\n",
       "      <td>30386</td>\n",
       "      <td>32784</td>\n",
       "    </tr>\n",
       "    <tr>\n",
       "      <th>1</th>\n",
       "      <td>United States : petroleum liquids</td>\n",
       "      <td>thousand barrels</td>\n",
       "      <td>ELEC.CONS_TOT.PEL-US-99.M</td>\n",
       "      <td>32350</td>\n",
       "      <td>17915</td>\n",
       "      <td>20239</td>\n",
       "      <td>19059</td>\n",
       "      <td>17661</td>\n",
       "      <td>20112</td>\n",
       "      <td>18089</td>\n",
       "      <td>...</td>\n",
       "      <td>2063</td>\n",
       "      <td>1856</td>\n",
       "      <td>1923</td>\n",
       "      <td>1828</td>\n",
       "      <td>1897</td>\n",
       "      <td>1976</td>\n",
       "      <td>1866</td>\n",
       "      <td>1973</td>\n",
       "      <td>1990</td>\n",
       "      <td>2177</td>\n",
       "    </tr>\n",
       "    <tr>\n",
       "      <th>2</th>\n",
       "      <td>United States : petroleum coke</td>\n",
       "      <td>thousand tons</td>\n",
       "      <td>ELEC.CONS_TOT.PC-US-99.M</td>\n",
       "      <td>393</td>\n",
       "      <td>357</td>\n",
       "      <td>354</td>\n",
       "      <td>297</td>\n",
       "      <td>346</td>\n",
       "      <td>359</td>\n",
       "      <td>425</td>\n",
       "      <td>...</td>\n",
       "      <td>173</td>\n",
       "      <td>157</td>\n",
       "      <td>173</td>\n",
       "      <td>198</td>\n",
       "      <td>306</td>\n",
       "      <td>315</td>\n",
       "      <td>278</td>\n",
       "      <td>177</td>\n",
       "      <td>136</td>\n",
       "      <td>176</td>\n",
       "    </tr>\n",
       "    <tr>\n",
       "      <th>3</th>\n",
       "      <td>United States : natural gas</td>\n",
       "      <td>thousand Mcf</td>\n",
       "      <td>ELEC.CONS_TOT.NG-US-99.M</td>\n",
       "      <td>457588</td>\n",
       "      <td>417044</td>\n",
       "      <td>476649</td>\n",
       "      <td>491067</td>\n",
       "      <td>543473</td>\n",
       "      <td>604362</td>\n",
       "      <td>755894</td>\n",
       "      <td>...</td>\n",
       "      <td>1062127</td>\n",
       "      <td>982039</td>\n",
       "      <td>1114670</td>\n",
       "      <td>1300402</td>\n",
       "      <td>1599998</td>\n",
       "      <td>1590772</td>\n",
       "      <td>1317030</td>\n",
       "      <td>1139689</td>\n",
       "      <td>1093508</td>\n",
       "      <td>1153560</td>\n",
       "    </tr>\n",
       "  </tbody>\n",
       "</table>\n",
       "<p>4 rows × 279 columns</p>\n",
       "</div>"
      ],
      "text/plain": [
       "                         description             units  \\\n",
       "0               United States : coal     thousand tons   \n",
       "1  United States : petroleum liquids  thousand barrels   \n",
       "2     United States : petroleum coke     thousand tons   \n",
       "3        United States : natural gas      thousand Mcf   \n",
       "\n",
       "                  source_key  2001-01-01  2001-02-01  2001-03-01  2001-04-01  \\\n",
       "0  ELEC.CONS_TOT.COW-US-99.M       90951       77545       80268       72530   \n",
       "1  ELEC.CONS_TOT.PEL-US-99.M       32350       17915       20239       19059   \n",
       "2   ELEC.CONS_TOT.PC-US-99.M         393         357         354         297   \n",
       "3   ELEC.CONS_TOT.NG-US-99.M      457588      417044      476649      491067   \n",
       "\n",
       "   2001-05-01  2001-06-01  2001-07-01  ...  2023-03-01  2023-04-01  \\\n",
       "0       78810       84486       93653  ...       29462       23614   \n",
       "1       17661       20112       18089  ...        2063        1856   \n",
       "2         346         359         425  ...         173         157   \n",
       "3      543473      604362      755894  ...     1062127      982039   \n",
       "\n",
       "   2023-05-01  2023-06-01  2023-07-01  2023-08-01  2023-09-01  2023-10-01  \\\n",
       "0       26353       34220       45286       44618       34973       30374   \n",
       "1        1923        1828        1897        1976        1866        1973   \n",
       "2         173         198         306         315         278         177   \n",
       "3     1114670     1300402     1599998     1590772     1317030     1139689   \n",
       "\n",
       "   2023-11-01  2023-12-01  \n",
       "0       30386       32784  \n",
       "1        1990        2177  \n",
       "2         136         176  \n",
       "3     1093508     1153560  \n",
       "\n",
       "[4 rows x 279 columns]"
      ]
     },
     "execution_count": 3,
     "metadata": {},
     "output_type": "execute_result"
    }
   ],
   "source": [
    "#viewing the first five rows\n",
    "\n",
    "data.head()"
   ]
  },
  {
   "cell_type": "markdown",
   "metadata": {},
   "source": [
    "## Data Preparation"
   ]
  },
  {
   "cell_type": "code",
   "execution_count": 4,
   "metadata": {},
   "outputs": [
    {
     "data": {
      "text/html": [
       "<div>\n",
       "<style scoped>\n",
       "    .dataframe tbody tr th:only-of-type {\n",
       "        vertical-align: middle;\n",
       "    }\n",
       "\n",
       "    .dataframe tbody tr th {\n",
       "        vertical-align: top;\n",
       "    }\n",
       "\n",
       "    .dataframe thead th {\n",
       "        text-align: right;\n",
       "    }\n",
       "</style>\n",
       "<table border=\"1\" class=\"dataframe\">\n",
       "  <thead>\n",
       "    <tr style=\"text-align: right;\">\n",
       "      <th></th>\n",
       "      <th>Date</th>\n",
       "      <th>units</th>\n",
       "      <th>source_key</th>\n",
       "      <th>2001-01-01</th>\n",
       "      <th>2001-02-01</th>\n",
       "      <th>2001-03-01</th>\n",
       "      <th>2001-04-01</th>\n",
       "      <th>2001-05-01</th>\n",
       "      <th>2001-06-01</th>\n",
       "      <th>2001-07-01</th>\n",
       "      <th>...</th>\n",
       "      <th>2023-03-01</th>\n",
       "      <th>2023-04-01</th>\n",
       "      <th>2023-05-01</th>\n",
       "      <th>2023-06-01</th>\n",
       "      <th>2023-07-01</th>\n",
       "      <th>2023-08-01</th>\n",
       "      <th>2023-09-01</th>\n",
       "      <th>2023-10-01</th>\n",
       "      <th>2023-11-01</th>\n",
       "      <th>2023-12-01</th>\n",
       "    </tr>\n",
       "  </thead>\n",
       "  <tbody>\n",
       "    <tr>\n",
       "      <th>0</th>\n",
       "      <td>United States : coal</td>\n",
       "      <td>thousand tons</td>\n",
       "      <td>ELEC.CONS_TOT.COW-US-99.M</td>\n",
       "      <td>90951</td>\n",
       "      <td>77545</td>\n",
       "      <td>80268</td>\n",
       "      <td>72530</td>\n",
       "      <td>78810</td>\n",
       "      <td>84486</td>\n",
       "      <td>93653</td>\n",
       "      <td>...</td>\n",
       "      <td>29462</td>\n",
       "      <td>23614</td>\n",
       "      <td>26353</td>\n",
       "      <td>34220</td>\n",
       "      <td>45286</td>\n",
       "      <td>44618</td>\n",
       "      <td>34973</td>\n",
       "      <td>30374</td>\n",
       "      <td>30386</td>\n",
       "      <td>32784</td>\n",
       "    </tr>\n",
       "    <tr>\n",
       "      <th>1</th>\n",
       "      <td>United States : petroleum liquids</td>\n",
       "      <td>thousand barrels</td>\n",
       "      <td>ELEC.CONS_TOT.PEL-US-99.M</td>\n",
       "      <td>32350</td>\n",
       "      <td>17915</td>\n",
       "      <td>20239</td>\n",
       "      <td>19059</td>\n",
       "      <td>17661</td>\n",
       "      <td>20112</td>\n",
       "      <td>18089</td>\n",
       "      <td>...</td>\n",
       "      <td>2063</td>\n",
       "      <td>1856</td>\n",
       "      <td>1923</td>\n",
       "      <td>1828</td>\n",
       "      <td>1897</td>\n",
       "      <td>1976</td>\n",
       "      <td>1866</td>\n",
       "      <td>1973</td>\n",
       "      <td>1990</td>\n",
       "      <td>2177</td>\n",
       "    </tr>\n",
       "    <tr>\n",
       "      <th>2</th>\n",
       "      <td>United States : petroleum coke</td>\n",
       "      <td>thousand tons</td>\n",
       "      <td>ELEC.CONS_TOT.PC-US-99.M</td>\n",
       "      <td>393</td>\n",
       "      <td>357</td>\n",
       "      <td>354</td>\n",
       "      <td>297</td>\n",
       "      <td>346</td>\n",
       "      <td>359</td>\n",
       "      <td>425</td>\n",
       "      <td>...</td>\n",
       "      <td>173</td>\n",
       "      <td>157</td>\n",
       "      <td>173</td>\n",
       "      <td>198</td>\n",
       "      <td>306</td>\n",
       "      <td>315</td>\n",
       "      <td>278</td>\n",
       "      <td>177</td>\n",
       "      <td>136</td>\n",
       "      <td>176</td>\n",
       "    </tr>\n",
       "    <tr>\n",
       "      <th>3</th>\n",
       "      <td>United States : natural gas</td>\n",
       "      <td>thousand Mcf</td>\n",
       "      <td>ELEC.CONS_TOT.NG-US-99.M</td>\n",
       "      <td>457588</td>\n",
       "      <td>417044</td>\n",
       "      <td>476649</td>\n",
       "      <td>491067</td>\n",
       "      <td>543473</td>\n",
       "      <td>604362</td>\n",
       "      <td>755894</td>\n",
       "      <td>...</td>\n",
       "      <td>1062127</td>\n",
       "      <td>982039</td>\n",
       "      <td>1114670</td>\n",
       "      <td>1300402</td>\n",
       "      <td>1599998</td>\n",
       "      <td>1590772</td>\n",
       "      <td>1317030</td>\n",
       "      <td>1139689</td>\n",
       "      <td>1093508</td>\n",
       "      <td>1153560</td>\n",
       "    </tr>\n",
       "  </tbody>\n",
       "</table>\n",
       "<p>4 rows × 279 columns</p>\n",
       "</div>"
      ],
      "text/plain": [
       "                                Date             units  \\\n",
       "0               United States : coal     thousand tons   \n",
       "1  United States : petroleum liquids  thousand barrels   \n",
       "2     United States : petroleum coke     thousand tons   \n",
       "3        United States : natural gas      thousand Mcf   \n",
       "\n",
       "                  source_key  2001-01-01  2001-02-01  2001-03-01  2001-04-01  \\\n",
       "0  ELEC.CONS_TOT.COW-US-99.M       90951       77545       80268       72530   \n",
       "1  ELEC.CONS_TOT.PEL-US-99.M       32350       17915       20239       19059   \n",
       "2   ELEC.CONS_TOT.PC-US-99.M         393         357         354         297   \n",
       "3   ELEC.CONS_TOT.NG-US-99.M      457588      417044      476649      491067   \n",
       "\n",
       "   2001-05-01  2001-06-01  2001-07-01  ...  2023-03-01  2023-04-01  \\\n",
       "0       78810       84486       93653  ...       29462       23614   \n",
       "1       17661       20112       18089  ...        2063        1856   \n",
       "2         346         359         425  ...         173         157   \n",
       "3      543473      604362      755894  ...     1062127      982039   \n",
       "\n",
       "   2023-05-01  2023-06-01  2023-07-01  2023-08-01  2023-09-01  2023-10-01  \\\n",
       "0       26353       34220       45286       44618       34973       30374   \n",
       "1        1923        1828        1897        1976        1866        1973   \n",
       "2         173         198         306         315         278         177   \n",
       "3     1114670     1300402     1599998     1590772     1317030     1139689   \n",
       "\n",
       "   2023-11-01  2023-12-01  \n",
       "0       30386       32784  \n",
       "1        1990        2177  \n",
       "2         136         176  \n",
       "3     1093508     1153560  \n",
       "\n",
       "[4 rows x 279 columns]"
      ]
     },
     "execution_count": 4,
     "metadata": {},
     "output_type": "execute_result"
    }
   ],
   "source": [
    "#changing the column name from 'description' to 'date'\n",
    "\n",
    "df = data.rename(columns={'description': 'Date'})\n",
    "df.head()"
   ]
  },
  {
   "cell_type": "code",
   "execution_count": 5,
   "metadata": {},
   "outputs": [],
   "source": [
    "#resetting the index as the date field\n",
    "\n",
    "df.set_index('Date', inplace=True)"
   ]
  },
  {
   "cell_type": "code",
   "execution_count": 6,
   "metadata": {},
   "outputs": [
    {
     "data": {
      "text/html": [
       "<div>\n",
       "<style scoped>\n",
       "    .dataframe tbody tr th:only-of-type {\n",
       "        vertical-align: middle;\n",
       "    }\n",
       "\n",
       "    .dataframe tbody tr th {\n",
       "        vertical-align: top;\n",
       "    }\n",
       "\n",
       "    .dataframe thead th {\n",
       "        text-align: right;\n",
       "    }\n",
       "</style>\n",
       "<table border=\"1\" class=\"dataframe\">\n",
       "  <thead>\n",
       "    <tr style=\"text-align: right;\">\n",
       "      <th></th>\n",
       "      <th>units</th>\n",
       "      <th>source_key</th>\n",
       "      <th>2001-01-01</th>\n",
       "      <th>2001-02-01</th>\n",
       "      <th>2001-03-01</th>\n",
       "      <th>2001-04-01</th>\n",
       "      <th>2001-05-01</th>\n",
       "      <th>2001-06-01</th>\n",
       "      <th>2001-07-01</th>\n",
       "      <th>2001-08-01</th>\n",
       "      <th>...</th>\n",
       "      <th>2023-03-01</th>\n",
       "      <th>2023-04-01</th>\n",
       "      <th>2023-05-01</th>\n",
       "      <th>2023-06-01</th>\n",
       "      <th>2023-07-01</th>\n",
       "      <th>2023-08-01</th>\n",
       "      <th>2023-09-01</th>\n",
       "      <th>2023-10-01</th>\n",
       "      <th>2023-11-01</th>\n",
       "      <th>2023-12-01</th>\n",
       "    </tr>\n",
       "    <tr>\n",
       "      <th>Date</th>\n",
       "      <th></th>\n",
       "      <th></th>\n",
       "      <th></th>\n",
       "      <th></th>\n",
       "      <th></th>\n",
       "      <th></th>\n",
       "      <th></th>\n",
       "      <th></th>\n",
       "      <th></th>\n",
       "      <th></th>\n",
       "      <th></th>\n",
       "      <th></th>\n",
       "      <th></th>\n",
       "      <th></th>\n",
       "      <th></th>\n",
       "      <th></th>\n",
       "      <th></th>\n",
       "      <th></th>\n",
       "      <th></th>\n",
       "      <th></th>\n",
       "      <th></th>\n",
       "    </tr>\n",
       "  </thead>\n",
       "  <tbody>\n",
       "    <tr>\n",
       "      <th>United States : coal</th>\n",
       "      <td>thousand tons</td>\n",
       "      <td>ELEC.CONS_TOT.COW-US-99.M</td>\n",
       "      <td>90951</td>\n",
       "      <td>77545</td>\n",
       "      <td>80268</td>\n",
       "      <td>72530</td>\n",
       "      <td>78810</td>\n",
       "      <td>84486</td>\n",
       "      <td>93653</td>\n",
       "      <td>95669</td>\n",
       "      <td>...</td>\n",
       "      <td>29462</td>\n",
       "      <td>23614</td>\n",
       "      <td>26353</td>\n",
       "      <td>34220</td>\n",
       "      <td>45286</td>\n",
       "      <td>44618</td>\n",
       "      <td>34973</td>\n",
       "      <td>30374</td>\n",
       "      <td>30386</td>\n",
       "      <td>32784</td>\n",
       "    </tr>\n",
       "    <tr>\n",
       "      <th>United States : petroleum liquids</th>\n",
       "      <td>thousand barrels</td>\n",
       "      <td>ELEC.CONS_TOT.PEL-US-99.M</td>\n",
       "      <td>32350</td>\n",
       "      <td>17915</td>\n",
       "      <td>20239</td>\n",
       "      <td>19059</td>\n",
       "      <td>17661</td>\n",
       "      <td>20112</td>\n",
       "      <td>18089</td>\n",
       "      <td>23892</td>\n",
       "      <td>...</td>\n",
       "      <td>2063</td>\n",
       "      <td>1856</td>\n",
       "      <td>1923</td>\n",
       "      <td>1828</td>\n",
       "      <td>1897</td>\n",
       "      <td>1976</td>\n",
       "      <td>1866</td>\n",
       "      <td>1973</td>\n",
       "      <td>1990</td>\n",
       "      <td>2177</td>\n",
       "    </tr>\n",
       "    <tr>\n",
       "      <th>United States : petroleum coke</th>\n",
       "      <td>thousand tons</td>\n",
       "      <td>ELEC.CONS_TOT.PC-US-99.M</td>\n",
       "      <td>393</td>\n",
       "      <td>357</td>\n",
       "      <td>354</td>\n",
       "      <td>297</td>\n",
       "      <td>346</td>\n",
       "      <td>359</td>\n",
       "      <td>425</td>\n",
       "      <td>414</td>\n",
       "      <td>...</td>\n",
       "      <td>173</td>\n",
       "      <td>157</td>\n",
       "      <td>173</td>\n",
       "      <td>198</td>\n",
       "      <td>306</td>\n",
       "      <td>315</td>\n",
       "      <td>278</td>\n",
       "      <td>177</td>\n",
       "      <td>136</td>\n",
       "      <td>176</td>\n",
       "    </tr>\n",
       "    <tr>\n",
       "      <th>United States : natural gas</th>\n",
       "      <td>thousand Mcf</td>\n",
       "      <td>ELEC.CONS_TOT.NG-US-99.M</td>\n",
       "      <td>457588</td>\n",
       "      <td>417044</td>\n",
       "      <td>476649</td>\n",
       "      <td>491067</td>\n",
       "      <td>543473</td>\n",
       "      <td>604362</td>\n",
       "      <td>755894</td>\n",
       "      <td>813932</td>\n",
       "      <td>...</td>\n",
       "      <td>1062127</td>\n",
       "      <td>982039</td>\n",
       "      <td>1114670</td>\n",
       "      <td>1300402</td>\n",
       "      <td>1599998</td>\n",
       "      <td>1590772</td>\n",
       "      <td>1317030</td>\n",
       "      <td>1139689</td>\n",
       "      <td>1093508</td>\n",
       "      <td>1153560</td>\n",
       "    </tr>\n",
       "  </tbody>\n",
       "</table>\n",
       "<p>4 rows × 278 columns</p>\n",
       "</div>"
      ],
      "text/plain": [
       "                                              units  \\\n",
       "Date                                                  \n",
       "United States : coal                  thousand tons   \n",
       "United States : petroleum liquids  thousand barrels   \n",
       "United States : petroleum coke        thousand tons   \n",
       "United States : natural gas            thousand Mcf   \n",
       "\n",
       "                                                  source_key  2001-01-01  \\\n",
       "Date                                                                       \n",
       "United States : coal               ELEC.CONS_TOT.COW-US-99.M       90951   \n",
       "United States : petroleum liquids  ELEC.CONS_TOT.PEL-US-99.M       32350   \n",
       "United States : petroleum coke      ELEC.CONS_TOT.PC-US-99.M         393   \n",
       "United States : natural gas         ELEC.CONS_TOT.NG-US-99.M      457588   \n",
       "\n",
       "                                   2001-02-01  2001-03-01  2001-04-01  \\\n",
       "Date                                                                    \n",
       "United States : coal                    77545       80268       72530   \n",
       "United States : petroleum liquids       17915       20239       19059   \n",
       "United States : petroleum coke            357         354         297   \n",
       "United States : natural gas            417044      476649      491067   \n",
       "\n",
       "                                   2001-05-01  2001-06-01  2001-07-01  \\\n",
       "Date                                                                    \n",
       "United States : coal                    78810       84486       93653   \n",
       "United States : petroleum liquids       17661       20112       18089   \n",
       "United States : petroleum coke            346         359         425   \n",
       "United States : natural gas            543473      604362      755894   \n",
       "\n",
       "                                   2001-08-01  ...  2023-03-01  2023-04-01  \\\n",
       "Date                                           ...                           \n",
       "United States : coal                    95669  ...       29462       23614   \n",
       "United States : petroleum liquids       23892  ...        2063        1856   \n",
       "United States : petroleum coke            414  ...         173         157   \n",
       "United States : natural gas            813932  ...     1062127      982039   \n",
       "\n",
       "                                   2023-05-01  2023-06-01  2023-07-01  \\\n",
       "Date                                                                    \n",
       "United States : coal                    26353       34220       45286   \n",
       "United States : petroleum liquids        1923        1828        1897   \n",
       "United States : petroleum coke            173         198         306   \n",
       "United States : natural gas           1114670     1300402     1599998   \n",
       "\n",
       "                                   2023-08-01  2023-09-01  2023-10-01  \\\n",
       "Date                                                                    \n",
       "United States : coal                    44618       34973       30374   \n",
       "United States : petroleum liquids        1976        1866        1973   \n",
       "United States : petroleum coke            315         278         177   \n",
       "United States : natural gas           1590772     1317030     1139689   \n",
       "\n",
       "                                   2023-11-01  2023-12-01  \n",
       "Date                                                       \n",
       "United States : coal                    30386       32784  \n",
       "United States : petroleum liquids        1990        2177  \n",
       "United States : petroleum coke            136         176  \n",
       "United States : natural gas           1093508     1153560  \n",
       "\n",
       "[4 rows x 278 columns]"
      ]
     },
     "execution_count": 6,
     "metadata": {},
     "output_type": "execute_result"
    }
   ],
   "source": [
    "df.head()"
   ]
  },
  {
   "cell_type": "code",
   "execution_count": 7,
   "metadata": {},
   "outputs": [],
   "source": [
    "#dropping unnecessary columns\n",
    "\n",
    "dataset = df.drop(['units', 'source_key'], axis=1)"
   ]
  },
  {
   "cell_type": "code",
   "execution_count": 8,
   "metadata": {},
   "outputs": [],
   "source": [
    "#transposing the dataset\n",
    "\n",
    "gas = dataset.T"
   ]
  },
  {
   "cell_type": "code",
   "execution_count": 9,
   "metadata": {},
   "outputs": [],
   "source": [
    "#renaming the target column\n",
    "\n",
    "gas.rename(columns={'United States : natural gas': 'Natural Gas (Mcf)'}, inplace=True)"
   ]
  },
  {
   "cell_type": "code",
   "execution_count": 10,
   "metadata": {},
   "outputs": [],
   "source": [
    "#dropping unnecessary columns\n",
    "\n",
    "natural_gas = gas.drop(['United States : coal', 'United States : petroleum liquids', 'United States : petroleum coke'], axis=1)"
   ]
  },
  {
   "cell_type": "code",
   "execution_count": 11,
   "metadata": {},
   "outputs": [
    {
     "data": {
      "text/html": [
       "<div>\n",
       "<style scoped>\n",
       "    .dataframe tbody tr th:only-of-type {\n",
       "        vertical-align: middle;\n",
       "    }\n",
       "\n",
       "    .dataframe tbody tr th {\n",
       "        vertical-align: top;\n",
       "    }\n",
       "\n",
       "    .dataframe thead th {\n",
       "        text-align: right;\n",
       "    }\n",
       "</style>\n",
       "<table border=\"1\" class=\"dataframe\">\n",
       "  <thead>\n",
       "    <tr style=\"text-align: right;\">\n",
       "      <th>Date</th>\n",
       "      <th>Natural Gas (Mcf)</th>\n",
       "    </tr>\n",
       "  </thead>\n",
       "  <tbody>\n",
       "    <tr>\n",
       "      <th>2001-01-01</th>\n",
       "      <td>457588</td>\n",
       "    </tr>\n",
       "    <tr>\n",
       "      <th>2001-02-01</th>\n",
       "      <td>417044</td>\n",
       "    </tr>\n",
       "    <tr>\n",
       "      <th>2001-03-01</th>\n",
       "      <td>476649</td>\n",
       "    </tr>\n",
       "    <tr>\n",
       "      <th>2001-04-01</th>\n",
       "      <td>491067</td>\n",
       "    </tr>\n",
       "    <tr>\n",
       "      <th>2001-05-01</th>\n",
       "      <td>543473</td>\n",
       "    </tr>\n",
       "    <tr>\n",
       "      <th>...</th>\n",
       "      <td>...</td>\n",
       "    </tr>\n",
       "    <tr>\n",
       "      <th>2023-08-01</th>\n",
       "      <td>1590772</td>\n",
       "    </tr>\n",
       "    <tr>\n",
       "      <th>2023-09-01</th>\n",
       "      <td>1317030</td>\n",
       "    </tr>\n",
       "    <tr>\n",
       "      <th>2023-10-01</th>\n",
       "      <td>1139689</td>\n",
       "    </tr>\n",
       "    <tr>\n",
       "      <th>2023-11-01</th>\n",
       "      <td>1093508</td>\n",
       "    </tr>\n",
       "    <tr>\n",
       "      <th>2023-12-01</th>\n",
       "      <td>1153560</td>\n",
       "    </tr>\n",
       "  </tbody>\n",
       "</table>\n",
       "<p>276 rows × 1 columns</p>\n",
       "</div>"
      ],
      "text/plain": [
       "Date        Natural Gas (Mcf)\n",
       "2001-01-01             457588\n",
       "2001-02-01             417044\n",
       "2001-03-01             476649\n",
       "2001-04-01             491067\n",
       "2001-05-01             543473\n",
       "...                       ...\n",
       "2023-08-01            1590772\n",
       "2023-09-01            1317030\n",
       "2023-10-01            1139689\n",
       "2023-11-01            1093508\n",
       "2023-12-01            1153560\n",
       "\n",
       "[276 rows x 1 columns]"
      ]
     },
     "execution_count": 11,
     "metadata": {},
     "output_type": "execute_result"
    }
   ],
   "source": [
    "natural_gas"
   ]
  },
  {
   "cell_type": "code",
   "execution_count": 12,
   "metadata": {},
   "outputs": [
    {
     "data": {
      "text/html": [
       "<div>\n",
       "<style scoped>\n",
       "    .dataframe tbody tr th:only-of-type {\n",
       "        vertical-align: middle;\n",
       "    }\n",
       "\n",
       "    .dataframe tbody tr th {\n",
       "        vertical-align: top;\n",
       "    }\n",
       "\n",
       "    .dataframe thead th {\n",
       "        text-align: right;\n",
       "    }\n",
       "</style>\n",
       "<table border=\"1\" class=\"dataframe\">\n",
       "  <thead>\n",
       "    <tr style=\"text-align: right;\">\n",
       "      <th>Date</th>\n",
       "      <th>Natural Gas (Mcf)</th>\n",
       "    </tr>\n",
       "  </thead>\n",
       "  <tbody>\n",
       "    <tr>\n",
       "      <th>count</th>\n",
       "      <td>2.760000e+02</td>\n",
       "    </tr>\n",
       "    <tr>\n",
       "      <th>mean</th>\n",
       "      <td>8.082169e+05</td>\n",
       "    </tr>\n",
       "    <tr>\n",
       "      <th>std</th>\n",
       "      <td>2.586120e+05</td>\n",
       "    </tr>\n",
       "    <tr>\n",
       "      <th>min</th>\n",
       "      <td>4.145690e+05</td>\n",
       "    </tr>\n",
       "    <tr>\n",
       "      <th>25%</th>\n",
       "      <td>5.910722e+05</td>\n",
       "    </tr>\n",
       "    <tr>\n",
       "      <th>50%</th>\n",
       "      <td>7.848305e+05</td>\n",
       "    </tr>\n",
       "    <tr>\n",
       "      <th>75%</th>\n",
       "      <td>9.835740e+05</td>\n",
       "    </tr>\n",
       "    <tr>\n",
       "      <th>max</th>\n",
       "      <td>1.599998e+06</td>\n",
       "    </tr>\n",
       "  </tbody>\n",
       "</table>\n",
       "</div>"
      ],
      "text/plain": [
       "Date   Natural Gas (Mcf)\n",
       "count       2.760000e+02\n",
       "mean        8.082169e+05\n",
       "std         2.586120e+05\n",
       "min         4.145690e+05\n",
       "25%         5.910722e+05\n",
       "50%         7.848305e+05\n",
       "75%         9.835740e+05\n",
       "max         1.599998e+06"
      ]
     },
     "execution_count": 12,
     "metadata": {},
     "output_type": "execute_result"
    }
   ],
   "source": [
    "natural_gas.describe()"
   ]
  },
  {
   "cell_type": "code",
   "execution_count": 13,
   "metadata": {},
   "outputs": [
    {
     "name": "stdout",
     "output_type": "stream",
     "text": [
      "<class 'pandas.core.frame.DataFrame'>\n",
      "Index: 276 entries, 2001-01-01 to 2023-12-01\n",
      "Data columns (total 1 columns):\n",
      " #   Column             Non-Null Count  Dtype\n",
      "---  ------             --------------  -----\n",
      " 0   Natural Gas (Mcf)  276 non-null    int64\n",
      "dtypes: int64(1)\n",
      "memory usage: 4.3+ KB\n"
     ]
    }
   ],
   "source": [
    "natural_gas.info()"
   ]
  },
  {
   "cell_type": "markdown",
   "metadata": {},
   "source": [
    "# Exploratory Data Analysis"
   ]
  },
  {
   "cell_type": "code",
   "execution_count": 14,
   "metadata": {},
   "outputs": [
    {
     "data": {
      "image/png": "[encoded data removed]",
      "text/plain": [
       "<Figure size 864x432 with 1 Axes>"
      ]
     },
     "metadata": {
      "needs_background": "light"
     },
     "output_type": "display_data"
    }
   ],
   "source": [
    "natural_gas.plot(figsize=(12, 6), linewidth=2, fontsize=12)\n",
    "plt.xlabel(\"Year\", fontsize=20)\n",
    "plt.ylabel(\"Natural Gas (Mcf)\", fontsize=12);"
   ]
  },
  {
   "cell_type": "code",
   "execution_count": 15,
   "metadata": {},
   "outputs": [
    {
     "data": {
      "text/plain": [
       "221"
      ]
     },
     "execution_count": 15,
     "metadata": {},
     "output_type": "execute_result"
    }
   ],
   "source": [
    "#splitting the data between train and validation sets 80/20\n",
    "\n",
    "split = round(natural_gas.shape[0]*0.8)\n",
    "split"
   ]
  },
  {
   "cell_type": "code",
   "execution_count": 16,
   "metadata": {},
   "outputs": [
    {
     "data": {
      "text/plain": [
       "<matplotlib.legend.Legend at 0x1efdf5c7c70>"
      ]
     },
     "execution_count": 16,
     "metadata": {},
     "output_type": "execute_result"
    },
    {
     "data": {
      "image/png": "[encoded data removed]",
      "text/plain": [
       "<Figure size 864x576 with 1 Axes>"
      ]
     },
     "metadata": {
      "needs_background": "light"
     },
     "output_type": "display_data"
    }
   ],
   "source": [
    "# Define train and test sets according to the index found above\n",
    "train = natural_gas[:split]\n",
    "\n",
    "valid = natural_gas[split:]\n",
    "\n",
    "fig, ax = plt.subplots(figsize=(12,8))\n",
    "ax.plot(train, label='train')\n",
    "# ax.plot(valid)\n",
    "ax.plot(valid, label='valid')\n",
    "ax.set_title('Train-Validation Split');\n",
    "plt.legend()"
   ]
  },
  {
   "cell_type": "markdown",
   "metadata": {},
   "source": [
    "# Modeling"
   ]
  },
  {
   "cell_type": "markdown",
   "metadata": {},
   "source": [
    "## Baseline Model"
   ]
  },
  {
   "cell_type": "code",
   "execution_count": 17,
   "metadata": {},
   "outputs": [
    {
     "data": {
      "text/html": [
       "<div>\n",
       "<style scoped>\n",
       "    .dataframe tbody tr th:only-of-type {\n",
       "        vertical-align: middle;\n",
       "    }\n",
       "\n",
       "    .dataframe tbody tr th {\n",
       "        vertical-align: top;\n",
       "    }\n",
       "\n",
       "    .dataframe thead th {\n",
       "        text-align: right;\n",
       "    }\n",
       "</style>\n",
       "<table border=\"1\" class=\"dataframe\">\n",
       "  <thead>\n",
       "    <tr style=\"text-align: right;\">\n",
       "      <th>Date</th>\n",
       "      <th>Natural Gas (Mcf)</th>\n",
       "    </tr>\n",
       "  </thead>\n",
       "  <tbody>\n",
       "    <tr>\n",
       "      <th>2001-01-01</th>\n",
       "      <td>457588</td>\n",
       "    </tr>\n",
       "    <tr>\n",
       "      <th>2001-02-01</th>\n",
       "      <td>417044</td>\n",
       "    </tr>\n",
       "    <tr>\n",
       "      <th>2001-03-01</th>\n",
       "      <td>476649</td>\n",
       "    </tr>\n",
       "    <tr>\n",
       "      <th>2001-04-01</th>\n",
       "      <td>491067</td>\n",
       "    </tr>\n",
       "    <tr>\n",
       "      <th>2001-05-01</th>\n",
       "      <td>543473</td>\n",
       "    </tr>\n",
       "    <tr>\n",
       "      <th>...</th>\n",
       "      <td>...</td>\n",
       "    </tr>\n",
       "    <tr>\n",
       "      <th>2019-01-01</th>\n",
       "      <td>982335</td>\n",
       "    </tr>\n",
       "    <tr>\n",
       "      <th>2019-02-01</th>\n",
       "      <td>899291</td>\n",
       "    </tr>\n",
       "    <tr>\n",
       "      <th>2019-03-01</th>\n",
       "      <td>938027</td>\n",
       "    </tr>\n",
       "    <tr>\n",
       "      <th>2019-04-01</th>\n",
       "      <td>855587</td>\n",
       "    </tr>\n",
       "    <tr>\n",
       "      <th>2019-05-01</th>\n",
       "      <td>958545</td>\n",
       "    </tr>\n",
       "  </tbody>\n",
       "</table>\n",
       "<p>221 rows × 1 columns</p>\n",
       "</div>"
      ],
      "text/plain": [
       "Date        Natural Gas (Mcf)\n",
       "2001-01-01             457588\n",
       "2001-02-01             417044\n",
       "2001-03-01             476649\n",
       "2001-04-01             491067\n",
       "2001-05-01             543473\n",
       "...                       ...\n",
       "2019-01-01             982335\n",
       "2019-02-01             899291\n",
       "2019-03-01             938027\n",
       "2019-04-01             855587\n",
       "2019-05-01             958545\n",
       "\n",
       "[221 rows x 1 columns]"
      ]
     },
     "execution_count": 17,
     "metadata": {},
     "output_type": "execute_result"
    }
   ],
   "source": [
    "train"
   ]
  },
  {
   "cell_type": "code",
   "execution_count": 18,
   "metadata": {},
   "outputs": [
    {
     "data": {
      "text/html": [
       "<div>\n",
       "<style scoped>\n",
       "    .dataframe tbody tr th:only-of-type {\n",
       "        vertical-align: middle;\n",
       "    }\n",
       "\n",
       "    .dataframe tbody tr th {\n",
       "        vertical-align: top;\n",
       "    }\n",
       "\n",
       "    .dataframe thead th {\n",
       "        text-align: right;\n",
       "    }\n",
       "</style>\n",
       "<table border=\"1\" class=\"dataframe\">\n",
       "  <thead>\n",
       "    <tr style=\"text-align: right;\">\n",
       "      <th>Date</th>\n",
       "      <th>Natural Gas (Mcf)</th>\n",
       "    </tr>\n",
       "  </thead>\n",
       "  <tbody>\n",
       "    <tr>\n",
       "      <th>2001-01-01</th>\n",
       "      <td>NaN</td>\n",
       "    </tr>\n",
       "    <tr>\n",
       "      <th>2001-02-01</th>\n",
       "      <td>457588.0</td>\n",
       "    </tr>\n",
       "    <tr>\n",
       "      <th>2001-03-01</th>\n",
       "      <td>417044.0</td>\n",
       "    </tr>\n",
       "    <tr>\n",
       "      <th>2001-04-01</th>\n",
       "      <td>476649.0</td>\n",
       "    </tr>\n",
       "    <tr>\n",
       "      <th>2001-05-01</th>\n",
       "      <td>491067.0</td>\n",
       "    </tr>\n",
       "    <tr>\n",
       "      <th>...</th>\n",
       "      <td>...</td>\n",
       "    </tr>\n",
       "    <tr>\n",
       "      <th>2019-01-01</th>\n",
       "      <td>888801.0</td>\n",
       "    </tr>\n",
       "    <tr>\n",
       "      <th>2019-02-01</th>\n",
       "      <td>982335.0</td>\n",
       "    </tr>\n",
       "    <tr>\n",
       "      <th>2019-03-01</th>\n",
       "      <td>899291.0</td>\n",
       "    </tr>\n",
       "    <tr>\n",
       "      <th>2019-04-01</th>\n",
       "      <td>938027.0</td>\n",
       "    </tr>\n",
       "    <tr>\n",
       "      <th>2019-05-01</th>\n",
       "      <td>855587.0</td>\n",
       "    </tr>\n",
       "  </tbody>\n",
       "</table>\n",
       "<p>221 rows × 1 columns</p>\n",
       "</div>"
      ],
      "text/plain": [
       "Date        Natural Gas (Mcf)\n",
       "2001-01-01                NaN\n",
       "2001-02-01           457588.0\n",
       "2001-03-01           417044.0\n",
       "2001-04-01           476649.0\n",
       "2001-05-01           491067.0\n",
       "...                       ...\n",
       "2019-01-01           888801.0\n",
       "2019-02-01           982335.0\n",
       "2019-03-01           899291.0\n",
       "2019-04-01           938027.0\n",
       "2019-05-01           855587.0\n",
       "\n",
       "[221 rows x 1 columns]"
      ]
     },
     "execution_count": 18,
     "metadata": {},
     "output_type": "execute_result"
    }
   ],
   "source": [
    "#shifting the dataset by 1\n",
    "\n",
    "baseline = train.shift(1)\n",
    "baseline"
   ]
  },
  {
   "cell_type": "code",
   "execution_count": 19,
   "metadata": {},
   "outputs": [
    {
     "data": {
      "image/png": "[encoded data removed]",
      "text/plain": [
       "<Figure size 432x288 with 1 Axes>"
      ]
     },
     "metadata": {
      "needs_background": "light"
     },
     "output_type": "display_data"
    }
   ],
   "source": [
    "#plotting both the original and shifted dataset\n",
    "\n",
    "fig, ax = plt.subplots()\n",
    "\n",
    "train[0:50].plot(ax=ax, c='r', label='original')\n",
    "baseline[0:50].plot(ax=ax, c='b', label='shifted')\n",
    "ax.set_title('baseline')\n",
    "ax.legend();"
   ]
  },
  {
   "cell_type": "code",
   "execution_count": 20,
   "metadata": {},
   "outputs": [
    {
     "data": {
      "text/plain": [
       "108276.04226552781"
      ]
     },
     "execution_count": 20,
     "metadata": {},
     "output_type": "execute_result"
    }
   ],
   "source": [
    "np.sqrt(mean_squared_error(train[1:], baseline.dropna()))"
   ]
  },
  {
   "cell_type": "code",
   "execution_count": 21,
   "metadata": {},
   "outputs": [
    {
     "data": {
      "image/png": "[encoded data removed]",
      "text/plain": [
       "<Figure size 432x288 with 1 Axes>"
      ]
     },
     "metadata": {
      "needs_background": "light"
     },
     "output_type": "display_data"
    }
   ],
   "source": [
    "#plotting the residuals\n",
    "\n",
    "fig, ax = plt.subplots()\n",
    "residuals = baseline[1:] - train[1:]\n",
    "ax.plot(residuals.index.to_numpy(), residuals.to_numpy())\n",
    "ax.plot(residuals.index.to_numpy(), residuals.rolling(30).std().to_numpy());"
   ]
  },
  {
   "cell_type": "code",
   "execution_count": 22,
   "metadata": {},
   "outputs": [
    {
     "data": {
      "image/png": "[encoded data removed]",
      "text/plain": [
       "<Figure size 432x288 with 1 Axes>"
      ]
     },
     "metadata": {
      "needs_background": "light"
     },
     "output_type": "display_data"
    }
   ],
   "source": [
    "#plotting rolling standard deviation of the errors\n",
    "\n",
    "fig, ax = plt.subplots()\n",
    "\n",
    "ax.plot(residuals.index.to_numpy(), residuals.rolling(30).var().to_numpy());"
   ]
  },
  {
   "cell_type": "code",
   "execution_count": 23,
   "metadata": {},
   "outputs": [
    {
     "data": {
      "image/png": "[encoded data removed]",
      "text/plain": [
       "<Figure size 432x288 with 1 Axes>"
      ]
     },
     "metadata": {
      "needs_background": "light"
     },
     "output_type": "display_data"
    }
   ],
   "source": [
    "#differencing the data to remove the trend\n",
    "\n",
    "train_diff = train.diff().dropna()\n",
    "\n",
    "fig, ax = plt.subplots()\n",
    "ax.plot(train_diff)\n",
    "ax.set_title('Differenced data');"
   ]
  },
  {
   "cell_type": "markdown",
   "metadata": {},
   "source": [
    "## Autoregressive Model (AR)"
   ]
  },
  {
   "cell_type": "code",
   "execution_count": 70,
   "metadata": {},
   "outputs": [
    {
     "name": "stderr",
     "output_type": "stream",
     "text": [
      "C:\\Users\\lbrown\\Anaconda3\\envs\\learn-env\\lib\\site-packages\\statsmodels\\tsa\\base\\tsa_model.py:473: ValueWarning: No frequency information was provided, so inferred frequency MS will be used.\n",
      "  self._init_dates(dates, freq)\n",
      "C:\\Users\\lbrown\\Anaconda3\\envs\\learn-env\\lib\\site-packages\\statsmodels\\tsa\\base\\tsa_model.py:473: ValueWarning: No frequency information was provided, so inferred frequency MS will be used.\n",
      "  self._init_dates(dates, freq)\n",
      "C:\\Users\\lbrown\\Anaconda3\\envs\\learn-env\\lib\\site-packages\\statsmodels\\tsa\\base\\tsa_model.py:473: ValueWarning: No frequency information was provided, so inferred frequency MS will be used.\n",
      "  self._init_dates(dates, freq)\n"
     ]
    },
    {
     "data": {
      "text/plain": [
       "2001-02-01        0.000000\n",
       "2001-03-01   -32538.669650\n",
       "2001-04-01    39829.542815\n",
       "2001-05-01    23340.641103\n",
       "2001-06-01    44904.875999\n",
       "                  ...     \n",
       "2019-01-01   -22341.503175\n",
       "2019-02-01    75481.581881\n",
       "2019-03-01   -48176.845272\n",
       "2019-04-01    14689.277856\n",
       "2019-05-01   -58512.543911\n",
       "Freq: MS, Name: predicted_mean, Length: 220, dtype: float64"
      ]
     },
     "execution_count": 70,
     "metadata": {},
     "output_type": "execute_result"
    }
   ],
   "source": [
    "ar_1 = ARIMA(train_diff, order=(1, 1, 0)).fit()\n",
    "\n",
    "ar_1.predict(typ='levels')"
   ]
  },
  {
   "cell_type": "code",
   "execution_count": 25,
   "metadata": {},
   "outputs": [
    {
     "data": {
      "text/html": [
       "<table class=\"simpletable\">\n",
       "<caption>SARIMAX Results</caption>\n",
       "<tr>\n",
       "  <th>Dep. Variable:</th>   <td>Natural Gas (Mcf)</td> <th>  No. Observations:  </th>    <td>220</td>   \n",
       "</tr>\n",
       "<tr>\n",
       "  <th>Model:</th>            <td>ARIMA(1, 1, 0)</td>   <th>  Log Likelihood     </th> <td>-2878.532</td>\n",
       "</tr>\n",
       "<tr>\n",
       "  <th>Date:</th>            <td>Wed, 27 Mar 2024</td>  <th>  AIC                </th> <td>5761.064</td> \n",
       "</tr>\n",
       "<tr>\n",
       "  <th>Time:</th>                <td>18:37:26</td>      <th>  BIC                </th> <td>5767.842</td> \n",
       "</tr>\n",
       "<tr>\n",
       "  <th>Sample:</th>             <td>02-01-2001</td>     <th>  HQIC               </th> <td>5763.801</td> \n",
       "</tr>\n",
       "<tr>\n",
       "  <th></th>                   <td>- 05-01-2019</td>    <th>                     </th>     <td> </td>    \n",
       "</tr>\n",
       "<tr>\n",
       "  <th>Covariance Type:</th>        <td>opg</td>        <th>                     </th>     <td> </td>    \n",
       "</tr>\n",
       "</table>\n",
       "<table class=\"simpletable\">\n",
       "<tr>\n",
       "     <td></td>       <th>coef</th>     <th>std err</th>      <th>z</th>      <th>P>|z|</th>  <th>[0.025</th>    <th>0.975]</th>  \n",
       "</tr>\n",
       "<tr>\n",
       "  <th>ar.L1</th>  <td>   -0.1975</td> <td>    0.058</td> <td>   -3.399</td> <td> 0.001</td> <td>   -0.311</td> <td>   -0.084</td>\n",
       "</tr>\n",
       "<tr>\n",
       "  <th>sigma2</th> <td> 1.532e+10</td> <td> 4.06e-13</td> <td> 3.77e+22</td> <td> 0.000</td> <td> 1.53e+10</td> <td> 1.53e+10</td>\n",
       "</tr>\n",
       "</table>\n",
       "<table class=\"simpletable\">\n",
       "<tr>\n",
       "  <th>Ljung-Box (L1) (Q):</th>     <td>0.19</td> <th>  Jarque-Bera (JB):  </th> <td>39.90</td>\n",
       "</tr>\n",
       "<tr>\n",
       "  <th>Prob(Q):</th>                <td>0.67</td> <th>  Prob(JB):          </th> <td>0.00</td> \n",
       "</tr>\n",
       "<tr>\n",
       "  <th>Heteroskedasticity (H):</th> <td>1.20</td> <th>  Skew:              </th> <td>-0.95</td>\n",
       "</tr>\n",
       "<tr>\n",
       "  <th>Prob(H) (two-sided):</th>    <td>0.43</td> <th>  Kurtosis:          </th> <td>3.87</td> \n",
       "</tr>\n",
       "</table><br/><br/>Warnings:<br/>[1] Covariance matrix calculated using the outer product of gradients (complex-step).<br/>[2] Covariance matrix is singular or near-singular, with condition number    inf. Standard errors may be unstable."
      ],
      "text/latex": [
       "\\begin{center}\n",
       "\\begin{tabular}{lclc}\n",
       "\\toprule\n",
       "\\textbf{Dep. Variable:}          & Natural Gas (Mcf) & \\textbf{  No. Observations:  } &    220      \\\\\n",
       "\\textbf{Model:}                  &   ARIMA(1, 1, 0)  & \\textbf{  Log Likelihood     } & -2878.532   \\\\\n",
       "\\textbf{Date:}                   &  Wed, 27 Mar 2024 & \\textbf{  AIC                } &  5761.064   \\\\\n",
       "\\textbf{Time:}                   &      18:37:26     & \\textbf{  BIC                } &  5767.842   \\\\\n",
       "\\textbf{Sample:}                 &     02-01-2001    & \\textbf{  HQIC               } &  5763.801   \\\\\n",
       "\\textbf{}                        &    - 05-01-2019   & \\textbf{                     } &             \\\\\n",
       "\\textbf{Covariance Type:}        &        opg        & \\textbf{                     } &             \\\\\n",
       "\\bottomrule\n",
       "\\end{tabular}\n",
       "\\begin{tabular}{lcccccc}\n",
       "                & \\textbf{coef} & \\textbf{std err} & \\textbf{z} & \\textbf{P$> |$z$|$} & \\textbf{[0.025} & \\textbf{0.975]}  \\\\\n",
       "\\midrule\n",
       "\\textbf{ar.L1}  &      -0.1975  &        0.058     &    -3.399  &         0.001        &       -0.311    &       -0.084     \\\\\n",
       "\\textbf{sigma2} &    1.532e+10  &     4.06e-13     &  3.77e+22  &         0.000        &     1.53e+10    &     1.53e+10     \\\\\n",
       "\\bottomrule\n",
       "\\end{tabular}\n",
       "\\begin{tabular}{lclc}\n",
       "\\textbf{Ljung-Box (L1) (Q):}     & 0.19 & \\textbf{  Jarque-Bera (JB):  } & 39.90  \\\\\n",
       "\\textbf{Prob(Q):}                & 0.67 & \\textbf{  Prob(JB):          } &  0.00  \\\\\n",
       "\\textbf{Heteroskedasticity (H):} & 1.20 & \\textbf{  Skew:              } & -0.95  \\\\\n",
       "\\textbf{Prob(H) (two-sided):}    & 0.43 & \\textbf{  Kurtosis:          } &  3.87  \\\\\n",
       "\\bottomrule\n",
       "\\end{tabular}\n",
       "%\\caption{SARIMAX Results}\n",
       "\\end{center}\n",
       "\n",
       "Warnings: \\newline\n",
       " [1] Covariance matrix calculated using the outer product of gradients (complex-step). \\newline\n",
       " [2] Covariance matrix is singular or near-singular, with condition number    inf. Standard errors may be unstable."
      ],
      "text/plain": [
       "<class 'statsmodels.iolib.summary.Summary'>\n",
       "\"\"\"\n",
       "                               SARIMAX Results                                \n",
       "==============================================================================\n",
       "Dep. Variable:      Natural Gas (Mcf)   No. Observations:                  220\n",
       "Model:                 ARIMA(1, 1, 0)   Log Likelihood               -2878.532\n",
       "Date:                Wed, 27 Mar 2024   AIC                           5761.064\n",
       "Time:                        18:37:26   BIC                           5767.842\n",
       "Sample:                    02-01-2001   HQIC                          5763.801\n",
       "                         - 05-01-2019                                         \n",
       "Covariance Type:                  opg                                         \n",
       "==============================================================================\n",
       "                 coef    std err          z      P>|z|      [0.025      0.975]\n",
       "------------------------------------------------------------------------------\n",
       "ar.L1         -0.1975      0.058     -3.399      0.001      -0.311      -0.084\n",
       "sigma2      1.532e+10   4.06e-13   3.77e+22      0.000    1.53e+10    1.53e+10\n",
       "===================================================================================\n",
       "Ljung-Box (L1) (Q):                   0.19   Jarque-Bera (JB):                39.90\n",
       "Prob(Q):                              0.67   Prob(JB):                         0.00\n",
       "Heteroskedasticity (H):               1.20   Skew:                            -0.95\n",
       "Prob(H) (two-sided):                  0.43   Kurtosis:                         3.87\n",
       "===================================================================================\n",
       "\n",
       "Warnings:\n",
       "[1] Covariance matrix calculated using the outer product of gradients (complex-step).\n",
       "[2] Covariance matrix is singular or near-singular, with condition number    inf. Standard errors may be unstable.\n",
       "\"\"\""
      ]
     },
     "execution_count": 25,
     "metadata": {},
     "output_type": "execute_result"
    }
   ],
   "source": [
    "ar_1.summary()"
   ]
  },
  {
   "cell_type": "code",
   "execution_count": 26,
   "metadata": {},
   "outputs": [
    {
     "data": {
      "text/plain": [
       "5761.063693218819"
      ]
     },
     "execution_count": 26,
     "metadata": {},
     "output_type": "execute_result"
    }
   ],
   "source": [
    "ar_1.aic"
   ]
  },
  {
   "cell_type": "code",
   "execution_count": 53,
   "metadata": {},
   "outputs": [
    {
     "data": {
      "text/plain": [
       "123378.11735249091"
      ]
     },
     "execution_count": 53,
     "metadata": {},
     "output_type": "execute_result"
    }
   ],
   "source": [
    "y_hat_ar1 = ar_1.predict(typ='levels')\n",
    "np.sqrt(mean_squared_error(train_diff, y_hat_ar1))"
   ]
  },
  {
   "cell_type": "code",
   "execution_count": 28,
   "metadata": {},
   "outputs": [
    {
     "name": "stderr",
     "output_type": "stream",
     "text": [
      "C:\\Users\\lbrown\\Anaconda3\\envs\\learn-env\\lib\\site-packages\\statsmodels\\tsa\\base\\tsa_model.py:473: ValueWarning: No frequency information was provided, so inferred frequency MS will be used.\n",
      "  self._init_dates(dates, freq)\n",
      "C:\\Users\\lbrown\\Anaconda3\\envs\\learn-env\\lib\\site-packages\\statsmodels\\tsa\\base\\tsa_model.py:473: ValueWarning: No frequency information was provided, so inferred frequency MS will be used.\n",
      "  self._init_dates(dates, freq)\n",
      "C:\\Users\\lbrown\\Anaconda3\\envs\\learn-env\\lib\\site-packages\\statsmodels\\tsa\\base\\tsa_model.py:473: ValueWarning: No frequency information was provided, so inferred frequency MS will be used.\n",
      "  self._init_dates(dates, freq)\n"
     ]
    },
    {
     "data": {
      "text/plain": [
       "2001-02-01        0.000000\n",
       "2001-03-01   -32579.101009\n",
       "2001-04-01    43129.096003\n",
       "2001-05-01     9300.386412\n",
       "2001-06-01    50727.170661\n",
       "                  ...     \n",
       "2019-01-01   -29338.611573\n",
       "2019-02-01    53830.304175\n",
       "2019-03-01   -57051.998784\n",
       "2019-04-01    38217.880771\n",
       "2019-05-01   -73656.237997\n",
       "Freq: MS, Name: predicted_mean, Length: 220, dtype: float64"
      ]
     },
     "execution_count": 28,
     "metadata": {},
     "output_type": "execute_result"
    }
   ],
   "source": [
    "#running another AR model but with 2 in the position of class order\n",
    "\n",
    "ar_2 = ARIMA(train_diff, order=(2, 1, 0)).fit()\n",
    "\n",
    "ar_2.predict(typ='levels')"
   ]
  },
  {
   "cell_type": "code",
   "execution_count": 29,
   "metadata": {},
   "outputs": [
    {
     "data": {
      "text/html": [
       "<table class=\"simpletable\">\n",
       "<caption>SARIMAX Results</caption>\n",
       "<tr>\n",
       "  <th>Dep. Variable:</th>   <td>Natural Gas (Mcf)</td> <th>  No. Observations:  </th>    <td>220</td>   \n",
       "</tr>\n",
       "<tr>\n",
       "  <th>Model:</th>            <td>ARIMA(2, 1, 0)</td>   <th>  Log Likelihood     </th> <td>-2875.953</td>\n",
       "</tr>\n",
       "<tr>\n",
       "  <th>Date:</th>            <td>Wed, 27 Mar 2024</td>  <th>  AIC                </th> <td>5757.907</td> \n",
       "</tr>\n",
       "<tr>\n",
       "  <th>Time:</th>                <td>18:37:26</td>      <th>  BIC                </th> <td>5768.074</td> \n",
       "</tr>\n",
       "<tr>\n",
       "  <th>Sample:</th>             <td>02-01-2001</td>     <th>  HQIC               </th> <td>5762.013</td> \n",
       "</tr>\n",
       "<tr>\n",
       "  <th></th>                   <td>- 05-01-2019</td>    <th>                     </th>     <td> </td>    \n",
       "</tr>\n",
       "<tr>\n",
       "  <th>Covariance Type:</th>        <td>opg</td>        <th>                     </th>     <td> </td>    \n",
       "</tr>\n",
       "</table>\n",
       "<table class=\"simpletable\">\n",
       "<tr>\n",
       "     <td></td>       <th>coef</th>     <th>std err</th>      <th>z</th>      <th>P>|z|</th>  <th>[0.025</th>    <th>0.975]</th>  \n",
       "</tr>\n",
       "<tr>\n",
       "  <th>ar.L1</th>  <td>   -0.2266</td> <td>    0.064</td> <td>   -3.568</td> <td> 0.000</td> <td>   -0.351</td> <td>   -0.102</td>\n",
       "</tr>\n",
       "<tr>\n",
       "  <th>ar.L2</th>  <td>   -0.1533</td> <td>    0.080</td> <td>   -1.911</td> <td> 0.056</td> <td>   -0.311</td> <td>    0.004</td>\n",
       "</tr>\n",
       "<tr>\n",
       "  <th>sigma2</th> <td> 1.502e+10</td> <td> 4.78e-13</td> <td> 3.15e+22</td> <td> 0.000</td> <td>  1.5e+10</td> <td>  1.5e+10</td>\n",
       "</tr>\n",
       "</table>\n",
       "<table class=\"simpletable\">\n",
       "<tr>\n",
       "  <th>Ljung-Box (L1) (Q):</th>     <td>0.49</td> <th>  Jarque-Bera (JB):  </th> <td>32.64</td>\n",
       "</tr>\n",
       "<tr>\n",
       "  <th>Prob(Q):</th>                <td>0.49</td> <th>  Prob(JB):          </th> <td>0.00</td> \n",
       "</tr>\n",
       "<tr>\n",
       "  <th>Heteroskedasticity (H):</th> <td>1.27</td> <th>  Skew:              </th> <td>-0.85</td>\n",
       "</tr>\n",
       "<tr>\n",
       "  <th>Prob(H) (two-sided):</th>    <td>0.31</td> <th>  Kurtosis:          </th> <td>3.85</td> \n",
       "</tr>\n",
       "</table><br/><br/>Warnings:<br/>[1] Covariance matrix calculated using the outer product of gradients (complex-step).<br/>[2] Covariance matrix is singular or near-singular, with condition number 3.27e+38. Standard errors may be unstable."
      ],
      "text/latex": [
       "\\begin{center}\n",
       "\\begin{tabular}{lclc}\n",
       "\\toprule\n",
       "\\textbf{Dep. Variable:}          & Natural Gas (Mcf) & \\textbf{  No. Observations:  } &    220      \\\\\n",
       "\\textbf{Model:}                  &   ARIMA(2, 1, 0)  & \\textbf{  Log Likelihood     } & -2875.953   \\\\\n",
       "\\textbf{Date:}                   &  Wed, 27 Mar 2024 & \\textbf{  AIC                } &  5757.907   \\\\\n",
       "\\textbf{Time:}                   &      18:37:26     & \\textbf{  BIC                } &  5768.074   \\\\\n",
       "\\textbf{Sample:}                 &     02-01-2001    & \\textbf{  HQIC               } &  5762.013   \\\\\n",
       "\\textbf{}                        &    - 05-01-2019   & \\textbf{                     } &             \\\\\n",
       "\\textbf{Covariance Type:}        &        opg        & \\textbf{                     } &             \\\\\n",
       "\\bottomrule\n",
       "\\end{tabular}\n",
       "\\begin{tabular}{lcccccc}\n",
       "                & \\textbf{coef} & \\textbf{std err} & \\textbf{z} & \\textbf{P$> |$z$|$} & \\textbf{[0.025} & \\textbf{0.975]}  \\\\\n",
       "\\midrule\n",
       "\\textbf{ar.L1}  &      -0.2266  &        0.064     &    -3.568  &         0.000        &       -0.351    &       -0.102     \\\\\n",
       "\\textbf{ar.L2}  &      -0.1533  &        0.080     &    -1.911  &         0.056        &       -0.311    &        0.004     \\\\\n",
       "\\textbf{sigma2} &    1.502e+10  &     4.78e-13     &  3.15e+22  &         0.000        &      1.5e+10    &      1.5e+10     \\\\\n",
       "\\bottomrule\n",
       "\\end{tabular}\n",
       "\\begin{tabular}{lclc}\n",
       "\\textbf{Ljung-Box (L1) (Q):}     & 0.49 & \\textbf{  Jarque-Bera (JB):  } & 32.64  \\\\\n",
       "\\textbf{Prob(Q):}                & 0.49 & \\textbf{  Prob(JB):          } &  0.00  \\\\\n",
       "\\textbf{Heteroskedasticity (H):} & 1.27 & \\textbf{  Skew:              } & -0.85  \\\\\n",
       "\\textbf{Prob(H) (two-sided):}    & 0.31 & \\textbf{  Kurtosis:          } &  3.85  \\\\\n",
       "\\bottomrule\n",
       "\\end{tabular}\n",
       "%\\caption{SARIMAX Results}\n",
       "\\end{center}\n",
       "\n",
       "Warnings: \\newline\n",
       " [1] Covariance matrix calculated using the outer product of gradients (complex-step). \\newline\n",
       " [2] Covariance matrix is singular or near-singular, with condition number 3.27e+38. Standard errors may be unstable."
      ],
      "text/plain": [
       "<class 'statsmodels.iolib.summary.Summary'>\n",
       "\"\"\"\n",
       "                               SARIMAX Results                                \n",
       "==============================================================================\n",
       "Dep. Variable:      Natural Gas (Mcf)   No. Observations:                  220\n",
       "Model:                 ARIMA(2, 1, 0)   Log Likelihood               -2875.953\n",
       "Date:                Wed, 27 Mar 2024   AIC                           5757.907\n",
       "Time:                        18:37:26   BIC                           5768.074\n",
       "Sample:                    02-01-2001   HQIC                          5762.013\n",
       "                         - 05-01-2019                                         \n",
       "Covariance Type:                  opg                                         \n",
       "==============================================================================\n",
       "                 coef    std err          z      P>|z|      [0.025      0.975]\n",
       "------------------------------------------------------------------------------\n",
       "ar.L1         -0.2266      0.064     -3.568      0.000      -0.351      -0.102\n",
       "ar.L2         -0.1533      0.080     -1.911      0.056      -0.311       0.004\n",
       "sigma2      1.502e+10   4.78e-13   3.15e+22      0.000     1.5e+10     1.5e+10\n",
       "===================================================================================\n",
       "Ljung-Box (L1) (Q):                   0.49   Jarque-Bera (JB):                32.64\n",
       "Prob(Q):                              0.49   Prob(JB):                         0.00\n",
       "Heteroskedasticity (H):               1.27   Skew:                            -0.85\n",
       "Prob(H) (two-sided):                  0.31   Kurtosis:                         3.85\n",
       "===================================================================================\n",
       "\n",
       "Warnings:\n",
       "[1] Covariance matrix calculated using the outer product of gradients (complex-step).\n",
       "[2] Covariance matrix is singular or near-singular, with condition number 3.27e+38. Standard errors may be unstable.\n",
       "\"\"\""
      ]
     },
     "execution_count": 29,
     "metadata": {},
     "output_type": "execute_result"
    }
   ],
   "source": [
    "ar_2.summary()"
   ]
  },
  {
   "cell_type": "code",
   "execution_count": 30,
   "metadata": {},
   "outputs": [
    {
     "name": "stdout",
     "output_type": "stream",
     "text": [
      "5761.063693218819\n",
      "5757.9069817062455\n"
     ]
    }
   ],
   "source": [
    "print(ar_1.aic)\n",
    "print(ar_2.aic)"
   ]
  },
  {
   "cell_type": "code",
   "execution_count": 31,
   "metadata": {},
   "outputs": [
    {
     "data": {
      "text/plain": [
       "121930.77219242706"
      ]
     },
     "execution_count": 31,
     "metadata": {},
     "output_type": "execute_result"
    }
   ],
   "source": [
    "y_hat_ar1 = ar_2.predict(typ='levels')\n",
    "np.sqrt(mean_squared_error(train_diff, y_hat_ar1))"
   ]
  },
  {
   "cell_type": "markdown",
   "metadata": {},
   "source": [
    "## Moving Average Model (MA)"
   ]
  },
  {
   "cell_type": "code",
   "execution_count": 32,
   "metadata": {},
   "outputs": [
    {
     "name": "stderr",
     "output_type": "stream",
     "text": [
      "C:\\Users\\lbrown\\Anaconda3\\envs\\learn-env\\lib\\site-packages\\statsmodels\\tsa\\base\\tsa_model.py:473: ValueWarning: No frequency information was provided, so inferred frequency MS will be used.\n",
      "  self._init_dates(dates, freq)\n",
      "C:\\Users\\lbrown\\Anaconda3\\envs\\learn-env\\lib\\site-packages\\statsmodels\\tsa\\base\\tsa_model.py:473: ValueWarning: No frequency information was provided, so inferred frequency MS will be used.\n",
      "  self._init_dates(dates, freq)\n",
      "C:\\Users\\lbrown\\Anaconda3\\envs\\learn-env\\lib\\site-packages\\statsmodels\\tsa\\base\\tsa_model.py:473: ValueWarning: No frequency information was provided, so inferred frequency MS will be used.\n",
      "  self._init_dates(dates, freq)\n"
     ]
    },
    {
     "data": {
      "text/plain": [
       "2001-02-01     2277.077273\n",
       "2001-03-01   -10932.569816\n",
       "2001-04-01    26325.338255\n",
       "2001-05-01    -1827.877357\n",
       "2001-06-01    20998.360242\n",
       "                  ...     \n",
       "2019-01-01    12704.820290\n",
       "2019-02-01    30183.898175\n",
       "2019-03-01   -36815.620276\n",
       "2019-04-01    28361.785091\n",
       "2019-05-01   -35977.988327\n",
       "Freq: MS, Name: predicted_mean, Length: 220, dtype: float64"
      ]
     },
     "execution_count": 32,
     "metadata": {},
     "output_type": "execute_result"
    }
   ],
   "source": [
    "ma_1 = ARIMA(train_diff, order=(0, 0, 1)).fit()\n",
    "y_hat = ma_1.predict(typ='levels')\n",
    "y_hat"
   ]
  },
  {
   "cell_type": "code",
   "execution_count": 33,
   "metadata": {},
   "outputs": [
    {
     "data": {
      "text/html": [
       "<table class=\"simpletable\">\n",
       "<caption>SARIMAX Results</caption>\n",
       "<tr>\n",
       "  <th>Dep. Variable:</th>   <td>Natural Gas (Mcf)</td> <th>  No. Observations:  </th>    <td>220</td>   \n",
       "</tr>\n",
       "<tr>\n",
       "  <th>Model:</th>            <td>ARIMA(0, 0, 1)</td>   <th>  Log Likelihood     </th> <td>-2848.825</td>\n",
       "</tr>\n",
       "<tr>\n",
       "  <th>Date:</th>            <td>Wed, 27 Mar 2024</td>  <th>  AIC                </th> <td>5703.650</td> \n",
       "</tr>\n",
       "<tr>\n",
       "  <th>Time:</th>                <td>18:37:26</td>      <th>  BIC                </th> <td>5713.831</td> \n",
       "</tr>\n",
       "<tr>\n",
       "  <th>Sample:</th>             <td>02-01-2001</td>     <th>  HQIC               </th> <td>5707.761</td> \n",
       "</tr>\n",
       "<tr>\n",
       "  <th></th>                   <td>- 05-01-2019</td>    <th>                     </th>     <td> </td>    \n",
       "</tr>\n",
       "<tr>\n",
       "  <th>Covariance Type:</th>        <td>opg</td>        <th>                     </th>     <td> </td>    \n",
       "</tr>\n",
       "</table>\n",
       "<table class=\"simpletable\">\n",
       "<tr>\n",
       "     <td></td>       <th>coef</th>     <th>std err</th>      <th>z</th>      <th>P>|z|</th>  <th>[0.025</th>    <th>0.975]</th>  \n",
       "</tr>\n",
       "<tr>\n",
       "  <th>const</th>  <td> 2277.0773</td> <td> 9610.394</td> <td>    0.237</td> <td> 0.813</td> <td>-1.66e+04</td> <td> 2.11e+04</td>\n",
       "</tr>\n",
       "<tr>\n",
       "  <th>ma.L1</th>  <td>    0.3453</td> <td>    0.064</td> <td>    5.407</td> <td> 0.000</td> <td>    0.220</td> <td>    0.470</td>\n",
       "</tr>\n",
       "<tr>\n",
       "  <th>sigma2</th> <td> 1.077e+10</td> <td>    0.016</td> <td>  6.6e+11</td> <td> 0.000</td> <td> 1.08e+10</td> <td> 1.08e+10</td>\n",
       "</tr>\n",
       "</table>\n",
       "<table class=\"simpletable\">\n",
       "<tr>\n",
       "  <th>Ljung-Box (L1) (Q):</th>     <td>0.11</td> <th>  Jarque-Bera (JB):  </th> <td>3.09</td> \n",
       "</tr>\n",
       "<tr>\n",
       "  <th>Prob(Q):</th>                <td>0.74</td> <th>  Prob(JB):          </th> <td>0.21</td> \n",
       "</tr>\n",
       "<tr>\n",
       "  <th>Heteroskedasticity (H):</th> <td>1.24</td> <th>  Skew:              </th> <td>-0.27</td>\n",
       "</tr>\n",
       "<tr>\n",
       "  <th>Prob(H) (two-sided):</th>    <td>0.35</td> <th>  Kurtosis:          </th> <td>3.20</td> \n",
       "</tr>\n",
       "</table><br/><br/>Warnings:<br/>[1] Covariance matrix calculated using the outer product of gradients (complex-step).<br/>[2] Covariance matrix is singular or near-singular, with condition number 4.54e+33. Standard errors may be unstable."
      ],
      "text/latex": [
       "\\begin{center}\n",
       "\\begin{tabular}{lclc}\n",
       "\\toprule\n",
       "\\textbf{Dep. Variable:}          & Natural Gas (Mcf) & \\textbf{  No. Observations:  } &    220      \\\\\n",
       "\\textbf{Model:}                  &   ARIMA(0, 0, 1)  & \\textbf{  Log Likelihood     } & -2848.825   \\\\\n",
       "\\textbf{Date:}                   &  Wed, 27 Mar 2024 & \\textbf{  AIC                } &  5703.650   \\\\\n",
       "\\textbf{Time:}                   &      18:37:26     & \\textbf{  BIC                } &  5713.831   \\\\\n",
       "\\textbf{Sample:}                 &     02-01-2001    & \\textbf{  HQIC               } &  5707.761   \\\\\n",
       "\\textbf{}                        &    - 05-01-2019   & \\textbf{                     } &             \\\\\n",
       "\\textbf{Covariance Type:}        &        opg        & \\textbf{                     } &             \\\\\n",
       "\\bottomrule\n",
       "\\end{tabular}\n",
       "\\begin{tabular}{lcccccc}\n",
       "                & \\textbf{coef} & \\textbf{std err} & \\textbf{z} & \\textbf{P$> |$z$|$} & \\textbf{[0.025} & \\textbf{0.975]}  \\\\\n",
       "\\midrule\n",
       "\\textbf{const}  &    2277.0773  &     9610.394     &     0.237  &         0.813        &    -1.66e+04    &     2.11e+04     \\\\\n",
       "\\textbf{ma.L1}  &       0.3453  &        0.064     &     5.407  &         0.000        &        0.220    &        0.470     \\\\\n",
       "\\textbf{sigma2} &    1.077e+10  &        0.016     &   6.6e+11  &         0.000        &     1.08e+10    &     1.08e+10     \\\\\n",
       "\\bottomrule\n",
       "\\end{tabular}\n",
       "\\begin{tabular}{lclc}\n",
       "\\textbf{Ljung-Box (L1) (Q):}     & 0.11 & \\textbf{  Jarque-Bera (JB):  } &  3.09  \\\\\n",
       "\\textbf{Prob(Q):}                & 0.74 & \\textbf{  Prob(JB):          } &  0.21  \\\\\n",
       "\\textbf{Heteroskedasticity (H):} & 1.24 & \\textbf{  Skew:              } & -0.27  \\\\\n",
       "\\textbf{Prob(H) (two-sided):}    & 0.35 & \\textbf{  Kurtosis:          } &  3.20  \\\\\n",
       "\\bottomrule\n",
       "\\end{tabular}\n",
       "%\\caption{SARIMAX Results}\n",
       "\\end{center}\n",
       "\n",
       "Warnings: \\newline\n",
       " [1] Covariance matrix calculated using the outer product of gradients (complex-step). \\newline\n",
       " [2] Covariance matrix is singular or near-singular, with condition number 4.54e+33. Standard errors may be unstable."
      ],
      "text/plain": [
       "<class 'statsmodels.iolib.summary.Summary'>\n",
       "\"\"\"\n",
       "                               SARIMAX Results                                \n",
       "==============================================================================\n",
       "Dep. Variable:      Natural Gas (Mcf)   No. Observations:                  220\n",
       "Model:                 ARIMA(0, 0, 1)   Log Likelihood               -2848.825\n",
       "Date:                Wed, 27 Mar 2024   AIC                           5703.650\n",
       "Time:                        18:37:26   BIC                           5713.831\n",
       "Sample:                    02-01-2001   HQIC                          5707.761\n",
       "                         - 05-01-2019                                         \n",
       "Covariance Type:                  opg                                         \n",
       "==============================================================================\n",
       "                 coef    std err          z      P>|z|      [0.025      0.975]\n",
       "------------------------------------------------------------------------------\n",
       "const       2277.0773   9610.394      0.237      0.813   -1.66e+04    2.11e+04\n",
       "ma.L1          0.3453      0.064      5.407      0.000       0.220       0.470\n",
       "sigma2      1.077e+10      0.016    6.6e+11      0.000    1.08e+10    1.08e+10\n",
       "===================================================================================\n",
       "Ljung-Box (L1) (Q):                   0.11   Jarque-Bera (JB):                 3.09\n",
       "Prob(Q):                              0.74   Prob(JB):                         0.21\n",
       "Heteroskedasticity (H):               1.24   Skew:                            -0.27\n",
       "Prob(H) (two-sided):                  0.35   Kurtosis:                         3.20\n",
       "===================================================================================\n",
       "\n",
       "Warnings:\n",
       "[1] Covariance matrix calculated using the outer product of gradients (complex-step).\n",
       "[2] Covariance matrix is singular or near-singular, with condition number 4.54e+33. Standard errors may be unstable.\n",
       "\"\"\""
      ]
     },
     "execution_count": 33,
     "metadata": {},
     "output_type": "execute_result"
    }
   ],
   "source": [
    "ma_1.summary()"
   ]
  },
  {
   "cell_type": "code",
   "execution_count": 34,
   "metadata": {},
   "outputs": [
    {
     "name": "stdout",
     "output_type": "stream",
     "text": [
      "5761.063693218819\n",
      "5757.9069817062455\n",
      "5714.411608198441\n"
     ]
    },
    {
     "name": "stderr",
     "output_type": "stream",
     "text": [
      "C:\\Users\\lbrown\\Anaconda3\\envs\\learn-env\\lib\\site-packages\\statsmodels\\tsa\\base\\tsa_model.py:473: ValueWarning: No frequency information was provided, so inferred frequency MS will be used.\n",
      "  self._init_dates(dates, freq)\n",
      "C:\\Users\\lbrown\\Anaconda3\\envs\\learn-env\\lib\\site-packages\\statsmodels\\tsa\\base\\tsa_model.py:473: ValueWarning: No frequency information was provided, so inferred frequency MS will be used.\n",
      "  self._init_dates(dates, freq)\n",
      "C:\\Users\\lbrown\\Anaconda3\\envs\\learn-env\\lib\\site-packages\\statsmodels\\tsa\\base\\tsa_model.py:473: ValueWarning: No frequency information was provided, so inferred frequency MS will be used.\n",
      "  self._init_dates(dates, freq)\n"
     ]
    }
   ],
   "source": [
    "ma_1 = ARIMA(train_diff, order=(0, 1, 1)).fit()\n",
    "\n",
    "print(ar_1.aic)\n",
    "print(ar_2.aic)\n",
    "print(ma_1.aic)"
   ]
  },
  {
   "cell_type": "code",
   "execution_count": 35,
   "metadata": {},
   "outputs": [
    {
     "data": {
      "text/plain": [
       "109212.2130467487"
      ]
     },
     "execution_count": 35,
     "metadata": {},
     "output_type": "execute_result"
    }
   ],
   "source": [
    "y_hat_ma1 = ma_1.predict(typ='levels')\n",
    "np.sqrt(mean_squared_error(train_diff, y_hat_ma1))"
   ]
  },
  {
   "cell_type": "code",
   "execution_count": 36,
   "metadata": {},
   "outputs": [
    {
     "name": "stderr",
     "output_type": "stream",
     "text": [
      "C:\\Users\\lbrown\\Anaconda3\\envs\\learn-env\\lib\\site-packages\\statsmodels\\tsa\\base\\tsa_model.py:473: ValueWarning: No frequency information was provided, so inferred frequency MS will be used.\n",
      "  self._init_dates(dates, freq)\n",
      "C:\\Users\\lbrown\\Anaconda3\\envs\\learn-env\\lib\\site-packages\\statsmodels\\tsa\\base\\tsa_model.py:473: ValueWarning: No frequency information was provided, so inferred frequency MS will be used.\n",
      "  self._init_dates(dates, freq)\n",
      "C:\\Users\\lbrown\\Anaconda3\\envs\\learn-env\\lib\\site-packages\\statsmodels\\tsa\\base\\tsa_model.py:473: ValueWarning: No frequency information was provided, so inferred frequency MS will be used.\n",
      "  self._init_dates(dates, freq)\n"
     ]
    },
    {
     "data": {
      "text/plain": [
       "2001-02-01        0.000000\n",
       "2001-03-01   -29364.921414\n",
       "2001-04-01    36191.498081\n",
       "2001-05-01     2248.423612\n",
       "2001-06-01    34668.222756\n",
       "                  ...     \n",
       "2019-01-01    12590.809291\n",
       "2019-02-01    30528.258974\n",
       "2019-03-01   -37406.901441\n",
       "2019-04-01    28600.463226\n",
       "2019-05-01   -36783.677862\n",
       "Freq: MS, Name: predicted_mean, Length: 220, dtype: float64"
      ]
     },
     "execution_count": 36,
     "metadata": {},
     "output_type": "execute_result"
    }
   ],
   "source": [
    "ma_2 = ARIMA(train_diff, order=(0, 1, 2)).fit()\n",
    "y_hat = ma_2.predict(typ='levels')\n",
    "y_hat"
   ]
  },
  {
   "cell_type": "code",
   "execution_count": 37,
   "metadata": {},
   "outputs": [
    {
     "data": {
      "text/html": [
       "<table class=\"simpletable\">\n",
       "<caption>SARIMAX Results</caption>\n",
       "<tr>\n",
       "  <th>Dep. Variable:</th>   <td>Natural Gas (Mcf)</td> <th>  No. Observations:  </th>    <td>220</td>   \n",
       "</tr>\n",
       "<tr>\n",
       "  <th>Model:</th>            <td>ARIMA(0, 1, 2)</td>   <th>  Log Likelihood     </th> <td>-2841.838</td>\n",
       "</tr>\n",
       "<tr>\n",
       "  <th>Date:</th>            <td>Wed, 27 Mar 2024</td>  <th>  AIC                </th> <td>5689.676</td> \n",
       "</tr>\n",
       "<tr>\n",
       "  <th>Time:</th>                <td>18:37:27</td>      <th>  BIC                </th> <td>5699.843</td> \n",
       "</tr>\n",
       "<tr>\n",
       "  <th>Sample:</th>             <td>02-01-2001</td>     <th>  HQIC               </th> <td>5693.782</td> \n",
       "</tr>\n",
       "<tr>\n",
       "  <th></th>                   <td>- 05-01-2019</td>    <th>                     </th>     <td> </td>    \n",
       "</tr>\n",
       "<tr>\n",
       "  <th>Covariance Type:</th>        <td>opg</td>        <th>                     </th>     <td> </td>    \n",
       "</tr>\n",
       "</table>\n",
       "<table class=\"simpletable\">\n",
       "<tr>\n",
       "     <td></td>       <th>coef</th>     <th>std err</th>      <th>z</th>      <th>P>|z|</th>  <th>[0.025</th>    <th>0.975]</th>  \n",
       "</tr>\n",
       "<tr>\n",
       "  <th>ma.L1</th>  <td>   -0.6497</td> <td>    0.125</td> <td>   -5.186</td> <td> 0.000</td> <td>   -0.895</td> <td>   -0.404</td>\n",
       "</tr>\n",
       "<tr>\n",
       "  <th>ma.L2</th>  <td>   -0.3457</td> <td>    0.089</td> <td>   -3.873</td> <td> 0.000</td> <td>   -0.521</td> <td>   -0.171</td>\n",
       "</tr>\n",
       "<tr>\n",
       "  <th>sigma2</th> <td> 1.349e+10</td> <td> 6.55e-12</td> <td> 2.06e+21</td> <td> 0.000</td> <td> 1.35e+10</td> <td> 1.35e+10</td>\n",
       "</tr>\n",
       "</table>\n",
       "<table class=\"simpletable\">\n",
       "<tr>\n",
       "  <th>Ljung-Box (L1) (Q):</th>     <td>0.10</td> <th>  Jarque-Bera (JB):  </th> <td>3.71</td> \n",
       "</tr>\n",
       "<tr>\n",
       "  <th>Prob(Q):</th>                <td>0.75</td> <th>  Prob(JB):          </th> <td>0.16</td> \n",
       "</tr>\n",
       "<tr>\n",
       "  <th>Heteroskedasticity (H):</th> <td>1.25</td> <th>  Skew:              </th> <td>-0.30</td>\n",
       "</tr>\n",
       "<tr>\n",
       "  <th>Prob(H) (two-sided):</th>    <td>0.35</td> <th>  Kurtosis:          </th> <td>3.22</td> \n",
       "</tr>\n",
       "</table><br/><br/>Warnings:<br/>[1] Covariance matrix calculated using the outer product of gradients (complex-step).<br/>[2] Covariance matrix is singular or near-singular, with condition number 1.38e+36. Standard errors may be unstable."
      ],
      "text/latex": [
       "\\begin{center}\n",
       "\\begin{tabular}{lclc}\n",
       "\\toprule\n",
       "\\textbf{Dep. Variable:}          & Natural Gas (Mcf) & \\textbf{  No. Observations:  } &    220      \\\\\n",
       "\\textbf{Model:}                  &   ARIMA(0, 1, 2)  & \\textbf{  Log Likelihood     } & -2841.838   \\\\\n",
       "\\textbf{Date:}                   &  Wed, 27 Mar 2024 & \\textbf{  AIC                } &  5689.676   \\\\\n",
       "\\textbf{Time:}                   &      18:37:27     & \\textbf{  BIC                } &  5699.843   \\\\\n",
       "\\textbf{Sample:}                 &     02-01-2001    & \\textbf{  HQIC               } &  5693.782   \\\\\n",
       "\\textbf{}                        &    - 05-01-2019   & \\textbf{                     } &             \\\\\n",
       "\\textbf{Covariance Type:}        &        opg        & \\textbf{                     } &             \\\\\n",
       "\\bottomrule\n",
       "\\end{tabular}\n",
       "\\begin{tabular}{lcccccc}\n",
       "                & \\textbf{coef} & \\textbf{std err} & \\textbf{z} & \\textbf{P$> |$z$|$} & \\textbf{[0.025} & \\textbf{0.975]}  \\\\\n",
       "\\midrule\n",
       "\\textbf{ma.L1}  &      -0.6497  &        0.125     &    -5.186  &         0.000        &       -0.895    &       -0.404     \\\\\n",
       "\\textbf{ma.L2}  &      -0.3457  &        0.089     &    -3.873  &         0.000        &       -0.521    &       -0.171     \\\\\n",
       "\\textbf{sigma2} &    1.349e+10  &     6.55e-12     &  2.06e+21  &         0.000        &     1.35e+10    &     1.35e+10     \\\\\n",
       "\\bottomrule\n",
       "\\end{tabular}\n",
       "\\begin{tabular}{lclc}\n",
       "\\textbf{Ljung-Box (L1) (Q):}     & 0.10 & \\textbf{  Jarque-Bera (JB):  } &  3.71  \\\\\n",
       "\\textbf{Prob(Q):}                & 0.75 & \\textbf{  Prob(JB):          } &  0.16  \\\\\n",
       "\\textbf{Heteroskedasticity (H):} & 1.25 & \\textbf{  Skew:              } & -0.30  \\\\\n",
       "\\textbf{Prob(H) (two-sided):}    & 0.35 & \\textbf{  Kurtosis:          } &  3.22  \\\\\n",
       "\\bottomrule\n",
       "\\end{tabular}\n",
       "%\\caption{SARIMAX Results}\n",
       "\\end{center}\n",
       "\n",
       "Warnings: \\newline\n",
       " [1] Covariance matrix calculated using the outer product of gradients (complex-step). \\newline\n",
       " [2] Covariance matrix is singular or near-singular, with condition number 1.38e+36. Standard errors may be unstable."
      ],
      "text/plain": [
       "<class 'statsmodels.iolib.summary.Summary'>\n",
       "\"\"\"\n",
       "                               SARIMAX Results                                \n",
       "==============================================================================\n",
       "Dep. Variable:      Natural Gas (Mcf)   No. Observations:                  220\n",
       "Model:                 ARIMA(0, 1, 2)   Log Likelihood               -2841.838\n",
       "Date:                Wed, 27 Mar 2024   AIC                           5689.676\n",
       "Time:                        18:37:27   BIC                           5699.843\n",
       "Sample:                    02-01-2001   HQIC                          5693.782\n",
       "                         - 05-01-2019                                         \n",
       "Covariance Type:                  opg                                         \n",
       "==============================================================================\n",
       "                 coef    std err          z      P>|z|      [0.025      0.975]\n",
       "------------------------------------------------------------------------------\n",
       "ma.L1         -0.6497      0.125     -5.186      0.000      -0.895      -0.404\n",
       "ma.L2         -0.3457      0.089     -3.873      0.000      -0.521      -0.171\n",
       "sigma2      1.349e+10   6.55e-12   2.06e+21      0.000    1.35e+10    1.35e+10\n",
       "===================================================================================\n",
       "Ljung-Box (L1) (Q):                   0.10   Jarque-Bera (JB):                 3.71\n",
       "Prob(Q):                              0.75   Prob(JB):                         0.16\n",
       "Heteroskedasticity (H):               1.25   Skew:                            -0.30\n",
       "Prob(H) (two-sided):                  0.35   Kurtosis:                         3.22\n",
       "===================================================================================\n",
       "\n",
       "Warnings:\n",
       "[1] Covariance matrix calculated using the outer product of gradients (complex-step).\n",
       "[2] Covariance matrix is singular or near-singular, with condition number 1.38e+36. Standard errors may be unstable.\n",
       "\"\"\""
      ]
     },
     "execution_count": 37,
     "metadata": {},
     "output_type": "execute_result"
    }
   ],
   "source": [
    "ma_2.summary()"
   ]
  },
  {
   "cell_type": "code",
   "execution_count": 38,
   "metadata": {},
   "outputs": [
    {
     "name": "stdout",
     "output_type": "stream",
     "text": [
      "5761.063693218819\n",
      "5757.9069817062455\n",
      "5714.411608198441\n",
      "5689.676249851111\n"
     ]
    }
   ],
   "source": [
    "print(ar_1.aic)\n",
    "print(ar_2.aic)\n",
    "print(ma_1.aic)\n",
    "print(ma_2.aic)"
   ]
  },
  {
   "cell_type": "code",
   "execution_count": 48,
   "metadata": {},
   "outputs": [
    {
     "data": {
      "text/plain": [
       "102582.09181488215"
      ]
     },
     "execution_count": 48,
     "metadata": {},
     "output_type": "execute_result"
    }
   ],
   "source": [
    "y_hat_ma2 = ma_2.predict(typ='levels')\n",
    "np.sqrt(mean_squared_error(train_diff, y_hat_ma2))"
   ]
  },
  {
   "cell_type": "markdown",
   "metadata": {},
   "source": [
    "## ARMA Model"
   ]
  },
  {
   "cell_type": "code",
   "execution_count": 40,
   "metadata": {},
   "outputs": [
    {
     "name": "stderr",
     "output_type": "stream",
     "text": [
      "C:\\Users\\lbrown\\Anaconda3\\envs\\learn-env\\lib\\site-packages\\statsmodels\\tsa\\base\\tsa_model.py:473: ValueWarning: No frequency information was provided, so inferred frequency MS will be used.\n",
      "  self._init_dates(dates, freq)\n",
      "C:\\Users\\lbrown\\Anaconda3\\envs\\learn-env\\lib\\site-packages\\statsmodels\\tsa\\base\\tsa_model.py:473: ValueWarning: No frequency information was provided, so inferred frequency MS will be used.\n",
      "  self._init_dates(dates, freq)\n",
      "C:\\Users\\lbrown\\Anaconda3\\envs\\learn-env\\lib\\site-packages\\statsmodels\\tsa\\base\\tsa_model.py:473: ValueWarning: No frequency information was provided, so inferred frequency MS will be used.\n",
      "  self._init_dates(dates, freq)\n"
     ]
    }
   ],
   "source": [
    "arma_1 = ARIMA(train_diff, order=(2, 1, 2)).fit()"
   ]
  },
  {
   "cell_type": "code",
   "execution_count": 41,
   "metadata": {},
   "outputs": [
    {
     "data": {
      "text/html": [
       "<table class=\"simpletable\">\n",
       "<caption>SARIMAX Results</caption>\n",
       "<tr>\n",
       "  <th>Dep. Variable:</th>   <td>Natural Gas (Mcf)</td> <th>  No. Observations:  </th>    <td>220</td>   \n",
       "</tr>\n",
       "<tr>\n",
       "  <th>Model:</th>            <td>ARIMA(2, 1, 2)</td>   <th>  Log Likelihood     </th> <td>-2819.939</td>\n",
       "</tr>\n",
       "<tr>\n",
       "  <th>Date:</th>            <td>Wed, 27 Mar 2024</td>  <th>  AIC                </th> <td>5649.877</td> \n",
       "</tr>\n",
       "<tr>\n",
       "  <th>Time:</th>                <td>18:37:27</td>      <th>  BIC                </th> <td>5666.823</td> \n",
       "</tr>\n",
       "<tr>\n",
       "  <th>Sample:</th>             <td>02-01-2001</td>     <th>  HQIC               </th> <td>5656.721</td> \n",
       "</tr>\n",
       "<tr>\n",
       "  <th></th>                   <td>- 05-01-2019</td>    <th>                     </th>     <td> </td>    \n",
       "</tr>\n",
       "<tr>\n",
       "  <th>Covariance Type:</th>        <td>opg</td>        <th>                     </th>     <td> </td>    \n",
       "</tr>\n",
       "</table>\n",
       "<table class=\"simpletable\">\n",
       "<tr>\n",
       "     <td></td>       <th>coef</th>     <th>std err</th>      <th>z</th>      <th>P>|z|</th>  <th>[0.025</th>    <th>0.975]</th>  \n",
       "</tr>\n",
       "<tr>\n",
       "  <th>ar.L1</th>  <td>    1.1198</td> <td>    0.096</td> <td>   11.715</td> <td> 0.000</td> <td>    0.932</td> <td>    1.307</td>\n",
       "</tr>\n",
       "<tr>\n",
       "  <th>ar.L2</th>  <td>   -0.5198</td> <td>    0.107</td> <td>   -4.844</td> <td> 0.000</td> <td>   -0.730</td> <td>   -0.309</td>\n",
       "</tr>\n",
       "<tr>\n",
       "  <th>ma.L1</th>  <td>   -1.9815</td> <td>    0.099</td> <td>  -20.022</td> <td> 0.000</td> <td>   -2.176</td> <td>   -1.788</td>\n",
       "</tr>\n",
       "<tr>\n",
       "  <th>ma.L2</th>  <td>    0.9834</td> <td>    0.099</td> <td>    9.906</td> <td> 0.000</td> <td>    0.789</td> <td>    1.178</td>\n",
       "</tr>\n",
       "<tr>\n",
       "  <th>sigma2</th> <td> 1.319e+10</td> <td> 4.14e-12</td> <td> 3.19e+21</td> <td> 0.000</td> <td> 1.32e+10</td> <td> 1.32e+10</td>\n",
       "</tr>\n",
       "</table>\n",
       "<table class=\"simpletable\">\n",
       "<tr>\n",
       "  <th>Ljung-Box (L1) (Q):</th>     <td>0.97</td> <th>  Jarque-Bera (JB):  </th> <td>5.20</td>\n",
       "</tr>\n",
       "<tr>\n",
       "  <th>Prob(Q):</th>                <td>0.33</td> <th>  Prob(JB):          </th> <td>0.07</td>\n",
       "</tr>\n",
       "<tr>\n",
       "  <th>Heteroskedasticity (H):</th> <td>1.19</td> <th>  Skew:              </th> <td>0.33</td>\n",
       "</tr>\n",
       "<tr>\n",
       "  <th>Prob(H) (two-sided):</th>    <td>0.45</td> <th>  Kurtosis:          </th> <td>3.37</td>\n",
       "</tr>\n",
       "</table><br/><br/>Warnings:<br/>[1] Covariance matrix calculated using the outer product of gradients (complex-step).<br/>[2] Covariance matrix is singular or near-singular, with condition number 1.46e+37. Standard errors may be unstable."
      ],
      "text/latex": [
       "\\begin{center}\n",
       "\\begin{tabular}{lclc}\n",
       "\\toprule\n",
       "\\textbf{Dep. Variable:}          & Natural Gas (Mcf) & \\textbf{  No. Observations:  } &    220      \\\\\n",
       "\\textbf{Model:}                  &   ARIMA(2, 1, 2)  & \\textbf{  Log Likelihood     } & -2819.939   \\\\\n",
       "\\textbf{Date:}                   &  Wed, 27 Mar 2024 & \\textbf{  AIC                } &  5649.877   \\\\\n",
       "\\textbf{Time:}                   &      18:37:27     & \\textbf{  BIC                } &  5666.823   \\\\\n",
       "\\textbf{Sample:}                 &     02-01-2001    & \\textbf{  HQIC               } &  5656.721   \\\\\n",
       "\\textbf{}                        &    - 05-01-2019   & \\textbf{                     } &             \\\\\n",
       "\\textbf{Covariance Type:}        &        opg        & \\textbf{                     } &             \\\\\n",
       "\\bottomrule\n",
       "\\end{tabular}\n",
       "\\begin{tabular}{lcccccc}\n",
       "                & \\textbf{coef} & \\textbf{std err} & \\textbf{z} & \\textbf{P$> |$z$|$} & \\textbf{[0.025} & \\textbf{0.975]}  \\\\\n",
       "\\midrule\n",
       "\\textbf{ar.L1}  &       1.1198  &        0.096     &    11.715  &         0.000        &        0.932    &        1.307     \\\\\n",
       "\\textbf{ar.L2}  &      -0.5198  &        0.107     &    -4.844  &         0.000        &       -0.730    &       -0.309     \\\\\n",
       "\\textbf{ma.L1}  &      -1.9815  &        0.099     &   -20.022  &         0.000        &       -2.176    &       -1.788     \\\\\n",
       "\\textbf{ma.L2}  &       0.9834  &        0.099     &     9.906  &         0.000        &        0.789    &        1.178     \\\\\n",
       "\\textbf{sigma2} &    1.319e+10  &     4.14e-12     &  3.19e+21  &         0.000        &     1.32e+10    &     1.32e+10     \\\\\n",
       "\\bottomrule\n",
       "\\end{tabular}\n",
       "\\begin{tabular}{lclc}\n",
       "\\textbf{Ljung-Box (L1) (Q):}     & 0.97 & \\textbf{  Jarque-Bera (JB):  } & 5.20  \\\\\n",
       "\\textbf{Prob(Q):}                & 0.33 & \\textbf{  Prob(JB):          } & 0.07  \\\\\n",
       "\\textbf{Heteroskedasticity (H):} & 1.19 & \\textbf{  Skew:              } & 0.33  \\\\\n",
       "\\textbf{Prob(H) (two-sided):}    & 0.45 & \\textbf{  Kurtosis:          } & 3.37  \\\\\n",
       "\\bottomrule\n",
       "\\end{tabular}\n",
       "%\\caption{SARIMAX Results}\n",
       "\\end{center}\n",
       "\n",
       "Warnings: \\newline\n",
       " [1] Covariance matrix calculated using the outer product of gradients (complex-step). \\newline\n",
       " [2] Covariance matrix is singular or near-singular, with condition number 1.46e+37. Standard errors may be unstable."
      ],
      "text/plain": [
       "<class 'statsmodels.iolib.summary.Summary'>\n",
       "\"\"\"\n",
       "                               SARIMAX Results                                \n",
       "==============================================================================\n",
       "Dep. Variable:      Natural Gas (Mcf)   No. Observations:                  220\n",
       "Model:                 ARIMA(2, 1, 2)   Log Likelihood               -2819.939\n",
       "Date:                Wed, 27 Mar 2024   AIC                           5649.877\n",
       "Time:                        18:37:27   BIC                           5666.823\n",
       "Sample:                    02-01-2001   HQIC                          5656.721\n",
       "                         - 05-01-2019                                         \n",
       "Covariance Type:                  opg                                         \n",
       "==============================================================================\n",
       "                 coef    std err          z      P>|z|      [0.025      0.975]\n",
       "------------------------------------------------------------------------------\n",
       "ar.L1          1.1198      0.096     11.715      0.000       0.932       1.307\n",
       "ar.L2         -0.5198      0.107     -4.844      0.000      -0.730      -0.309\n",
       "ma.L1         -1.9815      0.099    -20.022      0.000      -2.176      -1.788\n",
       "ma.L2          0.9834      0.099      9.906      0.000       0.789       1.178\n",
       "sigma2      1.319e+10   4.14e-12   3.19e+21      0.000    1.32e+10    1.32e+10\n",
       "===================================================================================\n",
       "Ljung-Box (L1) (Q):                   0.97   Jarque-Bera (JB):                 5.20\n",
       "Prob(Q):                              0.33   Prob(JB):                         0.07\n",
       "Heteroskedasticity (H):               1.19   Skew:                             0.33\n",
       "Prob(H) (two-sided):                  0.45   Kurtosis:                         3.37\n",
       "===================================================================================\n",
       "\n",
       "Warnings:\n",
       "[1] Covariance matrix calculated using the outer product of gradients (complex-step).\n",
       "[2] Covariance matrix is singular or near-singular, with condition number 1.46e+37. Standard errors may be unstable.\n",
       "\"\"\""
      ]
     },
     "execution_count": 41,
     "metadata": {},
     "output_type": "execute_result"
    }
   ],
   "source": [
    "arma_1.summary()"
   ]
  },
  {
   "cell_type": "code",
   "execution_count": 42,
   "metadata": {},
   "outputs": [
    {
     "name": "stdout",
     "output_type": "stream",
     "text": [
      "5761.063693218819\n",
      "5757.9069817062455\n",
      "5714.411608198441\n",
      "5689.676249851111\n",
      "5649.877367857812\n"
     ]
    }
   ],
   "source": [
    "print(ar_1.aic)\n",
    "print(ar_2.aic)\n",
    "print(ma_1.aic)\n",
    "print(ma_2.aic)\n",
    "print(arma_1.aic)"
   ]
  },
  {
   "cell_type": "code",
   "execution_count": null,
   "metadata": {},
   "outputs": [],
   "source": []
  },
  {
   "cell_type": "markdown",
   "metadata": {},
   "source": [
    "## ACF and PACF"
   ]
  },
  {
   "cell_type": "code",
   "execution_count": 43,
   "metadata": {},
   "outputs": [
    {
     "data": {
      "image/png": "[encoded data removed]",
      "text/plain": [
       "<Figure size 576x216 with 1 Axes>"
      ]
     },
     "metadata": {
      "needs_background": "light"
     },
     "output_type": "display_data"
    }
   ],
   "source": [
    "fig, ax = plt.subplots(figsize=(8, 3))\n",
    "plot_acf(train_diff, ax=ax, lags=25);"
   ]
  },
  {
   "cell_type": "code",
   "execution_count": 44,
   "metadata": {},
   "outputs": [
    {
     "data": {
      "image/png": "[encoded data removed]",
      "text/plain": [
       "<Figure size 576x216 with 1 Axes>"
      ]
     },
     "metadata": {
      "needs_background": "light"
     },
     "output_type": "display_data"
    }
   ],
   "source": [
    "fig, ax = plt.subplots(figsize=(8, 3))\n",
    "plot_pacf(train_diff, ax=ax, lags=25, method=\"ywm\");"
   ]
  },
  {
   "cell_type": "code",
   "execution_count": 45,
   "metadata": {},
   "outputs": [
    {
     "name": "stderr",
     "output_type": "stream",
     "text": [
      "C:\\Users\\lbrown\\Anaconda3\\envs\\learn-env\\lib\\site-packages\\statsmodels\\tsa\\base\\tsa_model.py:473: ValueWarning: No frequency information was provided, so inferred frequency MS will be used.\n",
      "  self._init_dates(dates, freq)\n",
      "C:\\Users\\lbrown\\Anaconda3\\envs\\learn-env\\lib\\site-packages\\statsmodels\\tsa\\base\\tsa_model.py:473: ValueWarning: No frequency information was provided, so inferred frequency MS will be used.\n",
      "  self._init_dates(dates, freq)\n",
      "C:\\Users\\lbrown\\Anaconda3\\envs\\learn-env\\lib\\site-packages\\statsmodels\\tsa\\base\\tsa_model.py:473: ValueWarning: No frequency information was provided, so inferred frequency MS will be used.\n",
      "  self._init_dates(dates, freq)\n",
      "C:\\Users\\lbrown\\Anaconda3\\envs\\learn-env\\lib\\site-packages\\statsmodels\\tsa\\statespace\\sarimax.py:966: UserWarning: Non-stationary starting autoregressive parameters found. Using zeros as starting parameters.\n",
      "  warn('Non-stationary starting autoregressive parameters'\n",
      "C:\\Users\\lbrown\\Anaconda3\\envs\\learn-env\\lib\\site-packages\\statsmodels\\tsa\\statespace\\sarimax.py:978: UserWarning: Non-invertible starting MA parameters found. Using zeros as starting parameters.\n",
      "  warn('Non-invertible starting MA parameters found.'\n"
     ]
    },
    {
     "name": "stdout",
     "output_type": "stream",
     "text": [
      "                               SARIMAX Results                                \n",
      "==============================================================================\n",
      "Dep. Variable:      Natural Gas (Mcf)   No. Observations:                  220\n",
      "Model:               ARIMA(13, 0, 12)   Log Likelihood               -2677.820\n",
      "Date:                Wed, 27 Mar 2024   AIC                           5409.639\n",
      "Time:                        18:37:29   BIC                           5501.267\n",
      "Sample:                    02-01-2001   HQIC                          5446.641\n",
      "                         - 05-01-2019                                         \n",
      "Covariance Type:                  opg                                         \n",
      "==============================================================================\n",
      "                 coef    std err          z      P>|z|      [0.025      0.975]\n",
      "------------------------------------------------------------------------------\n",
      "const       2277.0773    832.786      2.734      0.006     644.846    3909.308\n",
      "ar.L1         -0.4834      0.132     -3.669      0.000      -0.742      -0.225\n",
      "ar.L2          0.0045      0.090      0.050      0.960      -0.171       0.180\n",
      "ar.L3         -0.0817      0.086     -0.946      0.344      -0.251       0.088\n",
      "ar.L4         -0.0419      0.089     -0.469      0.639      -0.217       0.133\n",
      "ar.L5         -0.0337      0.089     -0.381      0.703      -0.207       0.140\n",
      "ar.L6         -0.0606      0.084     -0.723      0.470      -0.225       0.104\n",
      "ar.L7         -0.0351      0.092     -0.383      0.702      -0.214       0.144\n",
      "ar.L8         -0.0706      0.090     -0.785      0.432      -0.247       0.106\n",
      "ar.L9         -0.0242      0.084     -0.288      0.773      -0.189       0.140\n",
      "ar.L10        -0.0871      0.088     -0.993      0.320      -0.259       0.085\n",
      "ar.L11        -0.0092      0.089     -0.103      0.918      -0.184       0.166\n",
      "ar.L12         0.9450      0.082     11.508      0.000       0.784       1.106\n",
      "ar.L13         0.3924      0.105      3.739      0.000       0.187       0.598\n",
      "ma.L1          0.1873      0.203      0.921      0.357      -0.211       0.586\n",
      "ma.L2         -0.2210      0.208     -1.064      0.287      -0.628       0.186\n",
      "ma.L3          0.0711      0.164      0.433      0.665      -0.250       0.393\n",
      "ma.L4         -0.0986      0.187     -0.526      0.599      -0.466       0.269\n",
      "ma.L5         -0.0238      0.175     -0.136      0.892      -0.368       0.320\n",
      "ma.L6         -0.0259      0.177     -0.146      0.884      -0.373       0.321\n",
      "ma.L7         -0.0671      0.158     -0.425      0.671      -0.376       0.242\n",
      "ma.L8          0.1091      0.170      0.642      0.521      -0.224       0.442\n",
      "ma.L9         -0.1257      0.162     -0.776      0.438      -0.443       0.192\n",
      "ma.L10         0.1657      0.169      0.980      0.327      -0.166       0.497\n",
      "ma.L11        -0.1419      0.159     -0.893      0.372      -0.453       0.170\n",
      "ma.L12        -0.8209      0.127     -6.451      0.000      -1.070      -0.571\n",
      "sigma2      2.121e+09   2.23e-07   9.49e+15      0.000    2.12e+09    2.12e+09\n",
      "===================================================================================\n",
      "Ljung-Box (L1) (Q):                   0.00   Jarque-Bera (JB):                 6.32\n",
      "Prob(Q):                              0.99   Prob(JB):                         0.04\n",
      "Heteroskedasticity (H):               0.83   Skew:                            -0.01\n",
      "Prob(H) (two-sided):                  0.43   Kurtosis:                         3.83\n",
      "===================================================================================\n",
      "\n",
      "Warnings:\n",
      "[1] Covariance matrix calculated using the outer product of gradients (complex-step).\n",
      "[2] Covariance matrix is singular or near-singular, with condition number 2.53e+33. Standard errors may be unstable.\n"
     ]
    }
   ],
   "source": [
    "#adding parameters from acf and pacf in to a second arma model to improve the first\n",
    "\n",
    "arma_2 = ARIMA(train_diff, order=(13, 0, 12)).fit()\n",
    "\n",
    "\n",
    "# Print out summary information on the fit\n",
    "print(arma_2.summary())"
   ]
  },
  {
   "cell_type": "code",
   "execution_count": 51,
   "metadata": {},
   "outputs": [
    {
     "name": "stdout",
     "output_type": "stream",
     "text": [
      "ar_1:  5761.063693218819\n",
      "ar_2:  5757.9069817062455\n",
      "ma_1:  5714.411608198441\n",
      "ma_2:  5689.676249851111\n",
      "arma_1:  5649.877367857812\n",
      "arma_2:  5409.639385598053\n"
     ]
    }
   ],
   "source": [
    "print('ar_1: ', ar_1.aic)\n",
    "print('ar_2: ', ar_2.aic)\n",
    "print('ma_1: ',  ma_1.aic)\n",
    "print('ma_2: ', ma_2.aic)\n",
    "print('arma_1: ', arma_1.aic)\n",
    "print('arma_2: ', arma_2.aic)"
   ]
  },
  {
   "cell_type": "code",
   "execution_count": 60,
   "metadata": {},
   "outputs": [
    {
     "data": {
      "text/html": [
       "<div>\n",
       "<style scoped>\n",
       "    .dataframe tbody tr th:only-of-type {\n",
       "        vertical-align: middle;\n",
       "    }\n",
       "\n",
       "    .dataframe tbody tr th {\n",
       "        vertical-align: top;\n",
       "    }\n",
       "\n",
       "    .dataframe thead th {\n",
       "        text-align: right;\n",
       "    }\n",
       "</style>\n",
       "<table border=\"1\" class=\"dataframe\">\n",
       "  <thead>\n",
       "    <tr style=\"text-align: right;\">\n",
       "      <th>Date</th>\n",
       "      <th>Natural Gas (Mcf)</th>\n",
       "    </tr>\n",
       "  </thead>\n",
       "  <tbody>\n",
       "    <tr>\n",
       "      <th>2019-07-01</th>\n",
       "      <td>274052.0</td>\n",
       "    </tr>\n",
       "    <tr>\n",
       "      <th>2019-08-01</th>\n",
       "      <td>23948.0</td>\n",
       "    </tr>\n",
       "    <tr>\n",
       "      <th>2019-09-01</th>\n",
       "      <td>-204053.0</td>\n",
       "    </tr>\n",
       "    <tr>\n",
       "      <th>2019-10-01</th>\n",
       "      <td>-144786.0</td>\n",
       "    </tr>\n",
       "    <tr>\n",
       "      <th>2019-11-01</th>\n",
       "      <td>-115328.0</td>\n",
       "    </tr>\n",
       "  </tbody>\n",
       "</table>\n",
       "</div>"
      ],
      "text/plain": [
       "Date        Natural Gas (Mcf)\n",
       "2019-07-01           274052.0\n",
       "2019-08-01            23948.0\n",
       "2019-09-01          -204053.0\n",
       "2019-10-01          -144786.0\n",
       "2019-11-01          -115328.0"
      ]
     },
     "execution_count": 60,
     "metadata": {},
     "output_type": "execute_result"
    }
   ],
   "source": [
    "valid_diff = valid.diff().dropna()\n",
    "valid_diff.head()"
   ]
  },
  {
   "cell_type": "code",
   "execution_count": 61,
   "metadata": {},
   "outputs": [
    {
     "data": {
      "image/png": "[encoded data removed]",
      "text/plain": [
       "<Figure size 576x216 with 1 Axes>"
      ]
     },
     "metadata": {
      "needs_background": "light"
     },
     "output_type": "display_data"
    }
   ],
   "source": [
    "fig, ax = plt.subplots(figsize=(8, 3))\n",
    "plot_acf(valid_diff, ax=ax, lags=20);"
   ]
  },
  {
   "cell_type": "code",
   "execution_count": 62,
   "metadata": {},
   "outputs": [
    {
     "data": {
      "image/png": "[encoded data removed]",
      "text/plain": [
       "<Figure size 576x216 with 1 Axes>"
      ]
     },
     "metadata": {
      "needs_background": "light"
     },
     "output_type": "display_data"
    }
   ],
   "source": [
    "fig, ax = plt.subplots(figsize=(8, 3))\n",
    "plot_pacf(valid_diff, ax=ax, lags=25, method=\"ywm\");"
   ]
  },
  {
   "cell_type": "code",
   "execution_count": 64,
   "metadata": {},
   "outputs": [
    {
     "name": "stderr",
     "output_type": "stream",
     "text": [
      "C:\\Users\\lbrown\\Anaconda3\\envs\\learn-env\\lib\\site-packages\\statsmodels\\tsa\\base\\tsa_model.py:473: ValueWarning: No frequency information was provided, so inferred frequency MS will be used.\n",
      "  self._init_dates(dates, freq)\n",
      "C:\\Users\\lbrown\\Anaconda3\\envs\\learn-env\\lib\\site-packages\\statsmodels\\tsa\\base\\tsa_model.py:473: ValueWarning: No frequency information was provided, so inferred frequency MS will be used.\n",
      "  self._init_dates(dates, freq)\n",
      "C:\\Users\\lbrown\\Anaconda3\\envs\\learn-env\\lib\\site-packages\\statsmodels\\tsa\\base\\tsa_model.py:473: ValueWarning: No frequency information was provided, so inferred frequency MS will be used.\n",
      "  self._init_dates(dates, freq)\n",
      "C:\\Users\\lbrown\\Anaconda3\\envs\\learn-env\\lib\\site-packages\\statsmodels\\tsa\\statespace\\sarimax.py:966: UserWarning: Non-stationary starting autoregressive parameters found. Using zeros as starting parameters.\n",
      "  warn('Non-stationary starting autoregressive parameters'\n",
      "C:\\Users\\lbrown\\Anaconda3\\envs\\learn-env\\lib\\site-packages\\statsmodels\\tsa\\statespace\\sarimax.py:978: UserWarning: Non-invertible starting MA parameters found. Using zeros as starting parameters.\n",
      "  warn('Non-invertible starting MA parameters found.'\n"
     ]
    },
    {
     "name": "stdout",
     "output_type": "stream",
     "text": [
      "                               SARIMAX Results                                \n",
      "==============================================================================\n",
      "Dep. Variable:      Natural Gas (Mcf)   No. Observations:                   54\n",
      "Model:                ARIMA(13, 0, 9)   Log Likelihood                -675.047\n",
      "Date:                Wed, 27 Mar 2024   AIC                           1398.094\n",
      "Time:                        19:18:06   BIC                           1445.829\n",
      "Sample:                    07-01-2019   HQIC                          1416.504\n",
      "                         - 12-01-2023                                         \n",
      "Covariance Type:                  opg                                         \n",
      "==============================================================================\n",
      "                 coef    std err          z      P>|z|      [0.025      0.975]\n",
      "------------------------------------------------------------------------------\n",
      "const        745.8149   2390.764      0.312      0.755   -3939.996    5431.626\n",
      "ar.L1         -0.7727      1.957     -0.395      0.693      -4.608       3.063\n",
      "ar.L2         -0.0229      3.329     -0.007      0.995      -6.547       6.501\n",
      "ar.L3         -0.0577      3.415     -0.017      0.987      -6.751       6.635\n",
      "ar.L4         -0.0218      3.439     -0.006      0.995      -6.762       6.719\n",
      "ar.L5         -0.0116      3.454     -0.003      0.997      -6.781       6.757\n",
      "ar.L6         -0.0141      3.409     -0.004      0.997      -6.696       6.668\n",
      "ar.L7         -0.0083      3.459     -0.002      0.998      -6.787       6.770\n",
      "ar.L8         -0.0644      3.430     -0.019      0.985      -6.786       6.658\n",
      "ar.L9          0.0833      3.468      0.024      0.981      -6.714       6.881\n",
      "ar.L10        -0.1032      3.314     -0.031      0.975      -6.599       6.393\n",
      "ar.L11         0.1342      3.467      0.039      0.969      -6.661       6.929\n",
      "ar.L12         0.9168      3.191      0.287      0.774      -5.338       7.172\n",
      "ar.L13         0.7440      1.430      0.520      0.603      -2.058       3.546\n",
      "ma.L1          0.2879      2.502      0.115      0.908      -4.615       5.191\n",
      "ma.L2         -0.2754      3.356     -0.082      0.935      -6.853       6.302\n",
      "ma.L3         -0.2639      2.493     -0.106      0.916      -5.149       4.622\n",
      "ma.L4         -0.1663      1.686     -0.099      0.921      -3.471       3.139\n",
      "ma.L5          0.1393      1.331      0.105      0.917      -2.469       2.747\n",
      "ma.L6          0.1751      1.681      0.104      0.917      -3.119       3.469\n",
      "ma.L7          0.3254      2.578      0.126      0.900      -4.728       5.379\n",
      "ma.L8         -0.3847      2.638     -0.146      0.884      -5.555       4.785\n",
      "ma.L9         -0.7999      1.333     -0.600      0.548      -3.412       1.813\n",
      "sigma2      1.173e+09      0.001   1.95e+12      0.000    1.17e+09    1.17e+09\n",
      "===================================================================================\n",
      "Ljung-Box (L1) (Q):                   0.19   Jarque-Bera (JB):                 1.78\n",
      "Prob(Q):                              0.66   Prob(JB):                         0.41\n",
      "Heteroskedasticity (H):               1.49   Skew:                             0.45\n",
      "Prob(H) (two-sided):                  0.41   Kurtosis:                         2.99\n",
      "===================================================================================\n",
      "\n",
      "Warnings:\n",
      "[1] Covariance matrix calculated using the outer product of gradients (complex-step).\n",
      "[2] Covariance matrix is singular or near-singular, with condition number 6.8e+28. Standard errors may be unstable.\n"
     ]
    }
   ],
   "source": [
    "arma_val = ARIMA(valid_diff, order=(13, 0, 9)).fit()\n",
    "\n",
    "\n",
    "# Print out summary information on the fit\n",
    "print(arma_val.summary())"
   ]
  },
  {
   "cell_type": "code",
   "execution_count": null,
   "metadata": {},
   "outputs": [],
   "source": []
  },
  {
   "cell_type": "code",
   "execution_count": null,
   "metadata": {},
   "outputs": [],
   "source": []
  },
  {
   "cell_type": "markdown",
   "metadata": {},
   "source": [
    "# Evaluation"
   ]
  },
  {
   "cell_type": "code",
   "execution_count": null,
   "metadata": {},
   "outputs": [],
   "source": []
  },
  {
   "cell_type": "code",
   "execution_count": null,
   "metadata": {},
   "outputs": [],
   "source": []
  },
  {
   "cell_type": "markdown",
   "metadata": {},
   "source": [
    "## Limitations"
   ]
  },
  {
   "cell_type": "code",
   "execution_count": null,
   "metadata": {},
   "outputs": [],
   "source": []
  },
  {
   "cell_type": "code",
   "execution_count": null,
   "metadata": {},
   "outputs": [],
   "source": []
  },
  {
   "cell_type": "markdown",
   "metadata": {},
   "source": [
    "## Next Steps"
   ]
  },
  {
   "cell_type": "code",
   "execution_count": null,
   "metadata": {},
   "outputs": [],
   "source": []
  },
  {
   "cell_type": "code",
   "execution_count": null,
   "metadata": {},
   "outputs": [],
   "source": []
  }
 ],
 "metadata": {
  "kernelspec": {
   "display_name": "Python (learn-env)",
   "language": "python",
   "name": "learn-env"
  },
  "language_info": {
   "codemirror_mode": {
    "name": "ipython",
    "version": 3
   },
   "file_extension": ".py",
   "mimetype": "text/x-python",
   "name": "python",
   "nbconvert_exporter": "python",
   "pygments_lexer": "ipython3",
   "version": "3.8.5"
  }
 },
 "nbformat": 4,
 "nbformat_minor": 4
}
